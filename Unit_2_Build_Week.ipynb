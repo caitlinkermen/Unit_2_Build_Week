{
  "nbformat": 4,
  "nbformat_minor": 0,
  "metadata": {
    "colab": {
      "name": "Unit 2 Build Week",
      "provenance": [],
      "collapsed_sections": [],
      "toc_visible": true
    },
    "kernelspec": {
      "name": "python3",
      "display_name": "Python 3"
    }
  },
  "cells": [
    {
      "cell_type": "markdown",
      "metadata": {
        "id": "g-z4MuyKZo8-"
      },
      "source": [
        "# Predicting outcomes of IVF treatments\r\n",
        "### Using anonymized data"
      ]
    },
    {
      "cell_type": "markdown",
      "metadata": {
        "id": "yUSTHeZL-n-u"
      },
      "source": [
        "See the related blog post here:\r\n",
        "https://caitlinkermen.medium.com/predicting-outcomes-of-ivf-treatments-50cc5c3a3212 "
      ]
    },
    {
      "cell_type": "code",
      "metadata": {
        "id": "Ee6oTrjDr13R"
      },
      "source": [
        "%%capture\r\n",
        "import sys\r\n",
        "\r\n",
        "# If you're on Colab:\r\n",
        "if 'google.colab' in sys.modules:\r\n",
        "    DATA_PATH = 'https://raw.githubusercontent.com/LambdaSchool/DS-Unit-2-Applied-Modeling/master/data/'\r\n",
        "    !pip install category_encoders==2.*\r\n",
        "    !pip install eli5\r\n",
        "    !pip install pdpbox\r\n",
        "    !pip install shap\r\n",
        "\r\n",
        "# If you're working locally:\r\n",
        "else:\r\n",
        "    DATA_PATH = '../data/'"
      ],
      "execution_count": 132,
      "outputs": []
    },
    {
      "cell_type": "code",
      "metadata": {
        "id": "4Qq50a8Xr6Rp"
      },
      "source": [
        "#Import Libraries\r\n",
        "import pandas as pd\r\n",
        "import numpy as np\r\n",
        "from sklearn.ensemble import RandomForestClassifier\r\n",
        "from sklearn.impute import SimpleImputer\r\n",
        "from sklearn.linear_model import LogisticRegression\r\n",
        "from sklearn.metrics import accuracy_score, plot_confusion_matrix, classification_report, roc_curve, roc_auc_score\r\n",
        "from sklearn.model_selection import train_test_split\r\n",
        "from sklearn.pipeline import make_pipeline\r\n",
        "from sklearn.preprocessing import StandardScaler\r\n",
        "from sklearn.tree import DecisionTreeClassifier\r\n",
        "import matplotlib.pyplot as plt\r\n",
        "import category_encoders as ce\r\n",
        "from category_encoders import OneHotEncoder, OrdinalEncoder\r\n",
        "from eli5.sklearn import PermutationImportance\r\n",
        "from xgboost import XGBClassifier"
      ],
      "execution_count": 133,
      "outputs": []
    },
    {
      "cell_type": "markdown",
      "metadata": {
        "id": "N8VSD6XyZZx-"
      },
      "source": [
        "## Introduce the Dataset\r\n",
        "Where did I source the data?\r\n",
        "- The data for this build week was collected from https://www.hfea.gov.uk/ \r\n",
        "\r\n",
        "What does the data report on?\r\n",
        "- It is the largest and longest running fertility dataset that includes outcomes for IVF (In Vitro Fertilization) and IUI (Intra Utarine Insemination). \r\n",
        "- I am limiting the dataset to IVF only. This is because the protocols for IVF and IUI are very different.\r\n",
        "  - There are more factors in the outcome of IVF and the procedure costs more on average. I decided based on that the IVF portion of the dataset would lead to a more interesting model.\r\n",
        "\r\n",
        "What are some key terms a reader would need to know in order to understand the data?\r\n",
        "- IUI includes sperm sample collection and the use of a catheter to insert the cleaned sperm into the uterus directly.\r\n",
        "- IVF includes egg collection and storage, sperm collection and storage, combining the egg and sperm in a lab under several protocol options, and a surgical implantation of the lab developed embryo. "
      ]
    },
    {
      "cell_type": "code",
      "metadata": {
        "id": "s1HPyerRZSlL",
        "colab": {
          "base_uri": "https://localhost:8080/"
        },
        "outputId": "cd3afe14-0ab6-44a4-afcf-d078c4a8fbee"
      },
      "source": [
        "#Read in Data\r\n",
        "IVF20152016 = \"https://raw.githubusercontent.com/caitlinkermen/Unit_2_Build_Week/main/IVF_2015_2016.csv\"\r\n",
        "IVF2014 = \"https://raw.githubusercontent.com/caitlinkermen/Unit_2_Build_Week/main/IVF_2014.csv\"\r\n",
        "df = pd.read_csv(IVF20152016)\r\n",
        "mergedf = pd.read_csv(IVF2014)\r\n",
        "df = pd.concat([df,mergedf])"
      ],
      "execution_count": 134,
      "outputs": [
        {
          "output_type": "stream",
          "text": [
            "/usr/local/lib/python3.6/dist-packages/IPython/core/interactiveshell.py:2718: DtypeWarning: Columns (34,36,37,38,39,40,58,60,62,63) have mixed types.Specify dtype option on import or set low_memory=False.\n",
            "  interactivity=interactivity, compiler=compiler, result=result)\n",
            "/usr/local/lib/python3.6/dist-packages/IPython/core/interactiveshell.py:2718: DtypeWarning: Columns (34,36,37,45,46,61) have mixed types.Specify dtype option on import or set low_memory=False.\n",
            "  interactivity=interactivity, compiler=compiler, result=result)\n"
          ],
          "name": "stderr"
        }
      ]
    },
    {
      "cell_type": "code",
      "metadata": {
        "id": "6SuX2J_JZV0z",
        "colab": {
          "base_uri": "https://localhost:8080/",
          "height": 348
        },
        "outputId": "a9e79041-5eb0-4b87-a91a-2a37177f7259"
      },
      "source": [
        "#Explore the Data\r\n",
        "print(df.shape)\r\n",
        "df.head(3)"
      ],
      "execution_count": 135,
      "outputs": [
        {
          "output_type": "stream",
          "text": [
            "(215761, 65)\n"
          ],
          "name": "stdout"
        },
        {
          "output_type": "execute_result",
          "data": {
            "text/html": [
              "<div>\n",
              "<style scoped>\n",
              "    .dataframe tbody tr th:only-of-type {\n",
              "        vertical-align: middle;\n",
              "    }\n",
              "\n",
              "    .dataframe tbody tr th {\n",
              "        vertical-align: top;\n",
              "    }\n",
              "\n",
              "    .dataframe thead th {\n",
              "        text-align: right;\n",
              "    }\n",
              "</style>\n",
              "<table border=\"1\" class=\"dataframe\">\n",
              "  <thead>\n",
              "    <tr style=\"text-align: right;\">\n",
              "      <th></th>\n",
              "      <th>Patient Age at Treatment</th>\n",
              "      <th>Total Number of Previous cycles, Both IVF and DI</th>\n",
              "      <th>Total Number of Previous IVF cycles</th>\n",
              "      <th>Total Number of Previous DI cycles</th>\n",
              "      <th>Total number of previous pregnancies, Both IVF and DI</th>\n",
              "      <th>Total number of IVF pregnancies</th>\n",
              "      <th>Total number of DI pregnancies</th>\n",
              "      <th>Total number of live births - conceived through IVF or DI</th>\n",
              "      <th>Total number of live births - conceived through IVF</th>\n",
              "      <th>Total number of live births - conceived through DI</th>\n",
              "      <th>Type of Infertility - Female Primary</th>\n",
              "      <th>Type of Infertility - Female Secondary</th>\n",
              "      <th>Type of Infertility - Male Primary</th>\n",
              "      <th>Type of Infertility - Male Secondary</th>\n",
              "      <th>Type of Infertility -Couple Primary</th>\n",
              "      <th>Type of Infertility -Couple Secondary</th>\n",
              "      <th>Cause  of Infertility - Tubal disease</th>\n",
              "      <th>Cause of Infertility - Ovulatory Disorder</th>\n",
              "      <th>Cause of Infertility - Male Factor</th>\n",
              "      <th>Cause of Infertility - Patient Unexplained</th>\n",
              "      <th>Cause of Infertility - Endometriosis</th>\n",
              "      <th>Cause of Infertility - Cervical factors</th>\n",
              "      <th>Cause of Infertility - Female Factors</th>\n",
              "      <th>Cause of Infertility - Partner Sperm Concentration</th>\n",
              "      <th>Cause of Infertility -  Partner Sperm Morphology</th>\n",
              "      <th>Causes of Infertility - Partner Sperm Motility</th>\n",
              "      <th>Cause of Infertility -  Partner Sperm Immunological factors</th>\n",
              "      <th>Type of treatment - IVF or DI</th>\n",
              "      <th>Specific treatment type</th>\n",
              "      <th>Egg Source</th>\n",
              "      <th>Sperm From</th>\n",
              "      <th>Fresh Cycle</th>\n",
              "      <th>Frozen Cycle</th>\n",
              "      <th>Eggs Thawed</th>\n",
              "      <th>Fresh Eggs Collected</th>\n",
              "      <th>Fresh Eggs Stored</th>\n",
              "      <th>Total Eggs Mixed</th>\n",
              "      <th>Eggs Mixed With Partner Sperm</th>\n",
              "      <th>Eggs Mixed With Donor sperm</th>\n",
              "      <th>Total Embryos Created</th>\n",
              "      <th>Eggs Micro-injected</th>\n",
              "      <th>Embryos from Eggs Micro-injected</th>\n",
              "      <th>Total Embryos Thawed</th>\n",
              "      <th>Embryos Transfered</th>\n",
              "      <th>Embryos Transfered from Eggs Micro-injected</th>\n",
              "      <th>Embryos Stored For Use By Patient</th>\n",
              "      <th>Embryos (from Eggs Micro-injected) Stored For Use By Patient</th>\n",
              "      <th>Date of Egg Collection</th>\n",
              "      <th>Date of Egg Thawing</th>\n",
              "      <th>Date of Egg Mixing</th>\n",
              "      <th>Date of Embryo Thawing</th>\n",
              "      <th>Date of Embryo Transfer</th>\n",
              "      <th>Year of Treatment</th>\n",
              "      <th>Live Birth Occurrence</th>\n",
              "      <th>Number of Live Births</th>\n",
              "      <th>Early Outcome</th>\n",
              "      <th>Heart One Weeks Gestation</th>\n",
              "      <th>Heart One Birth Outcome</th>\n",
              "      <th>Heart Two Weeks Gestation</th>\n",
              "      <th>Heart Two Birth Outcome</th>\n",
              "      <th>Heart Three Weeks Gestation</th>\n",
              "      <th>Heart Three Birth Outcome</th>\n",
              "      <th>Heart Four Weeks Gestation</th>\n",
              "      <th>Heart Four Birth Outcome</th>\n",
              "      <th>Number of foetal sacs with fetal pulsation</th>\n",
              "    </tr>\n",
              "  </thead>\n",
              "  <tbody>\n",
              "    <tr>\n",
              "      <th>0</th>\n",
              "      <td>40-42</td>\n",
              "      <td>2</td>\n",
              "      <td>2</td>\n",
              "      <td>0</td>\n",
              "      <td>0</td>\n",
              "      <td>0</td>\n",
              "      <td>0</td>\n",
              "      <td>0</td>\n",
              "      <td>0</td>\n",
              "      <td>0</td>\n",
              "      <td>0</td>\n",
              "      <td>0</td>\n",
              "      <td>0</td>\n",
              "      <td>0</td>\n",
              "      <td>0</td>\n",
              "      <td>0</td>\n",
              "      <td>0</td>\n",
              "      <td>0</td>\n",
              "      <td>0</td>\n",
              "      <td>1</td>\n",
              "      <td>0</td>\n",
              "      <td>0</td>\n",
              "      <td>0</td>\n",
              "      <td>0</td>\n",
              "      <td>0</td>\n",
              "      <td>0</td>\n",
              "      <td>0</td>\n",
              "      <td>IVF</td>\n",
              "      <td>IVF</td>\n",
              "      <td>Patient</td>\n",
              "      <td>Partner</td>\n",
              "      <td>0</td>\n",
              "      <td>1</td>\n",
              "      <td>0</td>\n",
              "      <td>0</td>\n",
              "      <td>0</td>\n",
              "      <td>0</td>\n",
              "      <td>0</td>\n",
              "      <td>0</td>\n",
              "      <td>0</td>\n",
              "      <td>0</td>\n",
              "      <td>0</td>\n",
              "      <td>1</td>\n",
              "      <td>1</td>\n",
              "      <td>0</td>\n",
              "      <td>0</td>\n",
              "      <td>0</td>\n",
              "      <td>NaN</td>\n",
              "      <td>NaN</td>\n",
              "      <td>NaN</td>\n",
              "      <td>0.0</td>\n",
              "      <td>0.0</td>\n",
              "      <td>2016</td>\n",
              "      <td>1.0</td>\n",
              "      <td>1</td>\n",
              "      <td>Intrauterine Fetal Pulsation Seen</td>\n",
              "      <td>39</td>\n",
              "      <td>Live  Birth</td>\n",
              "      <td>NaN</td>\n",
              "      <td>NaN</td>\n",
              "      <td>NaN</td>\n",
              "      <td>NaN</td>\n",
              "      <td>NaN</td>\n",
              "      <td>NaN</td>\n",
              "      <td>NaN</td>\n",
              "    </tr>\n",
              "    <tr>\n",
              "      <th>1</th>\n",
              "      <td>45-50</td>\n",
              "      <td>3</td>\n",
              "      <td>3</td>\n",
              "      <td>0</td>\n",
              "      <td>0</td>\n",
              "      <td>0</td>\n",
              "      <td>0</td>\n",
              "      <td>0</td>\n",
              "      <td>0</td>\n",
              "      <td>0</td>\n",
              "      <td>0</td>\n",
              "      <td>0</td>\n",
              "      <td>0</td>\n",
              "      <td>0</td>\n",
              "      <td>0</td>\n",
              "      <td>0</td>\n",
              "      <td>0</td>\n",
              "      <td>0</td>\n",
              "      <td>0</td>\n",
              "      <td>0</td>\n",
              "      <td>0</td>\n",
              "      <td>0</td>\n",
              "      <td>0</td>\n",
              "      <td>0</td>\n",
              "      <td>0</td>\n",
              "      <td>0</td>\n",
              "      <td>0</td>\n",
              "      <td>IVF</td>\n",
              "      <td>ICSI</td>\n",
              "      <td>Patient</td>\n",
              "      <td>Partner</td>\n",
              "      <td>1</td>\n",
              "      <td>0</td>\n",
              "      <td>0</td>\n",
              "      <td>4</td>\n",
              "      <td>0</td>\n",
              "      <td>3</td>\n",
              "      <td>3</td>\n",
              "      <td>0</td>\n",
              "      <td>3</td>\n",
              "      <td>3</td>\n",
              "      <td>3</td>\n",
              "      <td>0</td>\n",
              "      <td>2</td>\n",
              "      <td>2</td>\n",
              "      <td>0</td>\n",
              "      <td>0</td>\n",
              "      <td>0.0</td>\n",
              "      <td>NaN</td>\n",
              "      <td>0.0</td>\n",
              "      <td>NaN</td>\n",
              "      <td>5.0</td>\n",
              "      <td>2016</td>\n",
              "      <td>NaN</td>\n",
              "      <td>0</td>\n",
              "      <td>None</td>\n",
              "      <td>NaN</td>\n",
              "      <td>NaN</td>\n",
              "      <td>NaN</td>\n",
              "      <td>NaN</td>\n",
              "      <td>NaN</td>\n",
              "      <td>NaN</td>\n",
              "      <td>NaN</td>\n",
              "      <td>NaN</td>\n",
              "      <td>NaN</td>\n",
              "    </tr>\n",
              "    <tr>\n",
              "      <th>2</th>\n",
              "      <td>35-37</td>\n",
              "      <td>0</td>\n",
              "      <td>0</td>\n",
              "      <td>0</td>\n",
              "      <td>0</td>\n",
              "      <td>0</td>\n",
              "      <td>0</td>\n",
              "      <td>0</td>\n",
              "      <td>0</td>\n",
              "      <td>0</td>\n",
              "      <td>0</td>\n",
              "      <td>0</td>\n",
              "      <td>0</td>\n",
              "      <td>0</td>\n",
              "      <td>0</td>\n",
              "      <td>0</td>\n",
              "      <td>0</td>\n",
              "      <td>0</td>\n",
              "      <td>0</td>\n",
              "      <td>0</td>\n",
              "      <td>0</td>\n",
              "      <td>0</td>\n",
              "      <td>0</td>\n",
              "      <td>0</td>\n",
              "      <td>0</td>\n",
              "      <td>0</td>\n",
              "      <td>0</td>\n",
              "      <td>IVF</td>\n",
              "      <td>IVF</td>\n",
              "      <td>Patient</td>\n",
              "      <td>Partner</td>\n",
              "      <td>1</td>\n",
              "      <td>0</td>\n",
              "      <td>0</td>\n",
              "      <td>12</td>\n",
              "      <td>6</td>\n",
              "      <td>0</td>\n",
              "      <td>0</td>\n",
              "      <td>0</td>\n",
              "      <td>0</td>\n",
              "      <td>0</td>\n",
              "      <td>0</td>\n",
              "      <td>0</td>\n",
              "      <td>0</td>\n",
              "      <td>0</td>\n",
              "      <td>0</td>\n",
              "      <td>0</td>\n",
              "      <td>0.0</td>\n",
              "      <td>NaN</td>\n",
              "      <td>NaN</td>\n",
              "      <td>NaN</td>\n",
              "      <td>NaN</td>\n",
              "      <td>2016</td>\n",
              "      <td>NaN</td>\n",
              "      <td>0</td>\n",
              "      <td>NaN</td>\n",
              "      <td>NaN</td>\n",
              "      <td>NaN</td>\n",
              "      <td>NaN</td>\n",
              "      <td>NaN</td>\n",
              "      <td>NaN</td>\n",
              "      <td>NaN</td>\n",
              "      <td>NaN</td>\n",
              "      <td>NaN</td>\n",
              "      <td>NaN</td>\n",
              "    </tr>\n",
              "  </tbody>\n",
              "</table>\n",
              "</div>"
            ],
            "text/plain": [
              "  Patient Age at Treatment  ... Number of foetal sacs with fetal pulsation\n",
              "0                    40-42  ...                                        NaN\n",
              "1                    45-50  ...                                        NaN\n",
              "2                    35-37  ...                                        NaN\n",
              "\n",
              "[3 rows x 65 columns]"
            ]
          },
          "metadata": {
            "tags": []
          },
          "execution_count": 135
        }
      ]
    },
    {
      "cell_type": "code",
      "metadata": {
        "id": "NSn6tvdTtMTt",
        "colab": {
          "base_uri": "https://localhost:8080/",
          "height": 378
        },
        "outputId": "cde39b08-1a7d-47f5-ddd6-ba91efc24f22"
      },
      "source": [
        "df.describe()"
      ],
      "execution_count": 136,
      "outputs": [
        {
          "output_type": "execute_result",
          "data": {
            "text/html": [
              "<div>\n",
              "<style scoped>\n",
              "    .dataframe tbody tr th:only-of-type {\n",
              "        vertical-align: middle;\n",
              "    }\n",
              "\n",
              "    .dataframe tbody tr th {\n",
              "        vertical-align: top;\n",
              "    }\n",
              "\n",
              "    .dataframe thead th {\n",
              "        text-align: right;\n",
              "    }\n",
              "</style>\n",
              "<table border=\"1\" class=\"dataframe\">\n",
              "  <thead>\n",
              "    <tr style=\"text-align: right;\">\n",
              "      <th></th>\n",
              "      <th>Total number of previous pregnancies, Both IVF and DI</th>\n",
              "      <th>Total number of IVF pregnancies</th>\n",
              "      <th>Total number of DI pregnancies</th>\n",
              "      <th>Total number of live births - conceived through IVF or DI</th>\n",
              "      <th>Total number of live births - conceived through IVF</th>\n",
              "      <th>Total number of live births - conceived through DI</th>\n",
              "      <th>Type of Infertility - Female Primary</th>\n",
              "      <th>Type of Infertility - Female Secondary</th>\n",
              "      <th>Type of Infertility - Male Primary</th>\n",
              "      <th>Type of Infertility - Male Secondary</th>\n",
              "      <th>Type of Infertility -Couple Primary</th>\n",
              "      <th>Type of Infertility -Couple Secondary</th>\n",
              "      <th>Cause  of Infertility - Tubal disease</th>\n",
              "      <th>Cause of Infertility - Ovulatory Disorder</th>\n",
              "      <th>Cause of Infertility - Male Factor</th>\n",
              "      <th>Cause of Infertility - Patient Unexplained</th>\n",
              "      <th>Cause of Infertility - Endometriosis</th>\n",
              "      <th>Cause of Infertility - Cervical factors</th>\n",
              "      <th>Cause of Infertility - Female Factors</th>\n",
              "      <th>Cause of Infertility - Partner Sperm Concentration</th>\n",
              "      <th>Cause of Infertility -  Partner Sperm Morphology</th>\n",
              "      <th>Causes of Infertility - Partner Sperm Motility</th>\n",
              "      <th>Cause of Infertility -  Partner Sperm Immunological factors</th>\n",
              "      <th>Fresh Cycle</th>\n",
              "      <th>Frozen Cycle</th>\n",
              "      <th>Eggs Thawed</th>\n",
              "      <th>Fresh Eggs Stored</th>\n",
              "      <th>Embryos from Eggs Micro-injected</th>\n",
              "      <th>Total Embryos Thawed</th>\n",
              "      <th>Embryos Transfered</th>\n",
              "      <th>Embryos Transfered from Eggs Micro-injected</th>\n",
              "      <th>Date of Egg Collection</th>\n",
              "      <th>Date of Egg Thawing</th>\n",
              "      <th>Date of Egg Mixing</th>\n",
              "      <th>Date of Embryo Thawing</th>\n",
              "      <th>Date of Embryo Transfer</th>\n",
              "      <th>Year of Treatment</th>\n",
              "      <th>Live Birth Occurrence</th>\n",
              "      <th>Number of Live Births</th>\n",
              "      <th>Number of foetal sacs with fetal pulsation</th>\n",
              "    </tr>\n",
              "  </thead>\n",
              "  <tbody>\n",
              "    <tr>\n",
              "      <th>count</th>\n",
              "      <td>215761.000000</td>\n",
              "      <td>215761.000000</td>\n",
              "      <td>215761.000000</td>\n",
              "      <td>215761.000000</td>\n",
              "      <td>215761.000000</td>\n",
              "      <td>215761.000000</td>\n",
              "      <td>215761.000000</td>\n",
              "      <td>215761.00000</td>\n",
              "      <td>215761.000000</td>\n",
              "      <td>215761.000000</td>\n",
              "      <td>215761.000000</td>\n",
              "      <td>215761.000000</td>\n",
              "      <td>215761.000000</td>\n",
              "      <td>215761.000000</td>\n",
              "      <td>215761.000000</td>\n",
              "      <td>215761.000000</td>\n",
              "      <td>215761.000000</td>\n",
              "      <td>215761.000000</td>\n",
              "      <td>215761.0</td>\n",
              "      <td>215761.000000</td>\n",
              "      <td>215761.000000</td>\n",
              "      <td>215761.000000</td>\n",
              "      <td>215761.0</td>\n",
              "      <td>215761.000000</td>\n",
              "      <td>215761.000000</td>\n",
              "      <td>215761.000000</td>\n",
              "      <td>215761.000000</td>\n",
              "      <td>215761.000000</td>\n",
              "      <td>215761.000000</td>\n",
              "      <td>215761.000000</td>\n",
              "      <td>215761.000000</td>\n",
              "      <td>154551.0</td>\n",
              "      <td>1379.000000</td>\n",
              "      <td>145298.000000</td>\n",
              "      <td>54141.000000</td>\n",
              "      <td>172243.000000</td>\n",
              "      <td>215761.000000</td>\n",
              "      <td>54176.0</td>\n",
              "      <td>215761.000000</td>\n",
              "      <td>67655.000000</td>\n",
              "    </tr>\n",
              "    <tr>\n",
              "      <th>mean</th>\n",
              "      <td>0.192315</td>\n",
              "      <td>0.189413</td>\n",
              "      <td>0.002901</td>\n",
              "      <td>0.135553</td>\n",
              "      <td>0.133717</td>\n",
              "      <td>0.001835</td>\n",
              "      <td>0.004686</td>\n",
              "      <td>0.00177</td>\n",
              "      <td>0.004329</td>\n",
              "      <td>0.001840</td>\n",
              "      <td>0.004950</td>\n",
              "      <td>0.001237</td>\n",
              "      <td>0.113459</td>\n",
              "      <td>0.119558</td>\n",
              "      <td>0.341183</td>\n",
              "      <td>0.284950</td>\n",
              "      <td>0.059459</td>\n",
              "      <td>0.000023</td>\n",
              "      <td>0.0</td>\n",
              "      <td>0.000083</td>\n",
              "      <td>0.000065</td>\n",
              "      <td>0.000051</td>\n",
              "      <td>0.0</td>\n",
              "      <td>0.750974</td>\n",
              "      <td>0.249739</td>\n",
              "      <td>0.052359</td>\n",
              "      <td>0.133676</td>\n",
              "      <td>2.143339</td>\n",
              "      <td>0.485616</td>\n",
              "      <td>1.183082</td>\n",
              "      <td>0.542021</td>\n",
              "      <td>0.0</td>\n",
              "      <td>5.075417</td>\n",
              "      <td>2.939745</td>\n",
              "      <td>0.510334</td>\n",
              "      <td>5.714932</td>\n",
              "      <td>2015.038677</td>\n",
              "      <td>1.0</td>\n",
              "      <td>0.283480</td>\n",
              "      <td>0.341882</td>\n",
              "    </tr>\n",
              "    <tr>\n",
              "      <th>std</th>\n",
              "      <td>0.460268</td>\n",
              "      <td>0.456116</td>\n",
              "      <td>0.060441</td>\n",
              "      <td>0.366684</td>\n",
              "      <td>0.364024</td>\n",
              "      <td>0.045733</td>\n",
              "      <td>0.068292</td>\n",
              "      <td>0.04204</td>\n",
              "      <td>0.065652</td>\n",
              "      <td>0.042856</td>\n",
              "      <td>0.070181</td>\n",
              "      <td>0.035156</td>\n",
              "      <td>0.317154</td>\n",
              "      <td>0.324445</td>\n",
              "      <td>0.474108</td>\n",
              "      <td>0.451391</td>\n",
              "      <td>0.236483</td>\n",
              "      <td>0.004814</td>\n",
              "      <td>0.0</td>\n",
              "      <td>0.009133</td>\n",
              "      <td>0.008055</td>\n",
              "      <td>0.007140</td>\n",
              "      <td>0.0</td>\n",
              "      <td>0.432450</td>\n",
              "      <td>0.432863</td>\n",
              "      <td>0.736016</td>\n",
              "      <td>1.262499</td>\n",
              "      <td>3.720618</td>\n",
              "      <td>1.215700</td>\n",
              "      <td>0.771755</td>\n",
              "      <td>0.805815</td>\n",
              "      <td>0.0</td>\n",
              "      <td>71.020501</td>\n",
              "      <td>54.076800</td>\n",
              "      <td>21.889217</td>\n",
              "      <td>53.039031</td>\n",
              "      <td>0.815054</td>\n",
              "      <td>0.0</td>\n",
              "      <td>0.518606</td>\n",
              "      <td>0.568019</td>\n",
              "    </tr>\n",
              "    <tr>\n",
              "      <th>min</th>\n",
              "      <td>0.000000</td>\n",
              "      <td>0.000000</td>\n",
              "      <td>0.000000</td>\n",
              "      <td>0.000000</td>\n",
              "      <td>0.000000</td>\n",
              "      <td>0.000000</td>\n",
              "      <td>0.000000</td>\n",
              "      <td>0.00000</td>\n",
              "      <td>0.000000</td>\n",
              "      <td>0.000000</td>\n",
              "      <td>0.000000</td>\n",
              "      <td>0.000000</td>\n",
              "      <td>0.000000</td>\n",
              "      <td>0.000000</td>\n",
              "      <td>0.000000</td>\n",
              "      <td>0.000000</td>\n",
              "      <td>0.000000</td>\n",
              "      <td>0.000000</td>\n",
              "      <td>0.0</td>\n",
              "      <td>0.000000</td>\n",
              "      <td>0.000000</td>\n",
              "      <td>0.000000</td>\n",
              "      <td>0.0</td>\n",
              "      <td>0.000000</td>\n",
              "      <td>0.000000</td>\n",
              "      <td>0.000000</td>\n",
              "      <td>0.000000</td>\n",
              "      <td>0.000000</td>\n",
              "      <td>0.000000</td>\n",
              "      <td>0.000000</td>\n",
              "      <td>0.000000</td>\n",
              "      <td>0.0</td>\n",
              "      <td>0.000000</td>\n",
              "      <td>0.000000</td>\n",
              "      <td>0.000000</td>\n",
              "      <td>0.000000</td>\n",
              "      <td>2014.000000</td>\n",
              "      <td>1.0</td>\n",
              "      <td>0.000000</td>\n",
              "      <td>0.000000</td>\n",
              "    </tr>\n",
              "    <tr>\n",
              "      <th>25%</th>\n",
              "      <td>0.000000</td>\n",
              "      <td>0.000000</td>\n",
              "      <td>0.000000</td>\n",
              "      <td>0.000000</td>\n",
              "      <td>0.000000</td>\n",
              "      <td>0.000000</td>\n",
              "      <td>0.000000</td>\n",
              "      <td>0.00000</td>\n",
              "      <td>0.000000</td>\n",
              "      <td>0.000000</td>\n",
              "      <td>0.000000</td>\n",
              "      <td>0.000000</td>\n",
              "      <td>0.000000</td>\n",
              "      <td>0.000000</td>\n",
              "      <td>0.000000</td>\n",
              "      <td>0.000000</td>\n",
              "      <td>0.000000</td>\n",
              "      <td>0.000000</td>\n",
              "      <td>0.0</td>\n",
              "      <td>0.000000</td>\n",
              "      <td>0.000000</td>\n",
              "      <td>0.000000</td>\n",
              "      <td>0.0</td>\n",
              "      <td>1.000000</td>\n",
              "      <td>0.000000</td>\n",
              "      <td>0.000000</td>\n",
              "      <td>0.000000</td>\n",
              "      <td>0.000000</td>\n",
              "      <td>0.000000</td>\n",
              "      <td>1.000000</td>\n",
              "      <td>0.000000</td>\n",
              "      <td>0.0</td>\n",
              "      <td>0.000000</td>\n",
              "      <td>0.000000</td>\n",
              "      <td>0.000000</td>\n",
              "      <td>0.000000</td>\n",
              "      <td>2014.000000</td>\n",
              "      <td>1.0</td>\n",
              "      <td>0.000000</td>\n",
              "      <td>0.000000</td>\n",
              "    </tr>\n",
              "    <tr>\n",
              "      <th>50%</th>\n",
              "      <td>0.000000</td>\n",
              "      <td>0.000000</td>\n",
              "      <td>0.000000</td>\n",
              "      <td>0.000000</td>\n",
              "      <td>0.000000</td>\n",
              "      <td>0.000000</td>\n",
              "      <td>0.000000</td>\n",
              "      <td>0.00000</td>\n",
              "      <td>0.000000</td>\n",
              "      <td>0.000000</td>\n",
              "      <td>0.000000</td>\n",
              "      <td>0.000000</td>\n",
              "      <td>0.000000</td>\n",
              "      <td>0.000000</td>\n",
              "      <td>0.000000</td>\n",
              "      <td>0.000000</td>\n",
              "      <td>0.000000</td>\n",
              "      <td>0.000000</td>\n",
              "      <td>0.0</td>\n",
              "      <td>0.000000</td>\n",
              "      <td>0.000000</td>\n",
              "      <td>0.000000</td>\n",
              "      <td>0.0</td>\n",
              "      <td>1.000000</td>\n",
              "      <td>0.000000</td>\n",
              "      <td>0.000000</td>\n",
              "      <td>0.000000</td>\n",
              "      <td>0.000000</td>\n",
              "      <td>0.000000</td>\n",
              "      <td>1.000000</td>\n",
              "      <td>0.000000</td>\n",
              "      <td>0.0</td>\n",
              "      <td>0.000000</td>\n",
              "      <td>0.000000</td>\n",
              "      <td>0.000000</td>\n",
              "      <td>3.000000</td>\n",
              "      <td>2015.000000</td>\n",
              "      <td>1.0</td>\n",
              "      <td>0.000000</td>\n",
              "      <td>0.000000</td>\n",
              "    </tr>\n",
              "    <tr>\n",
              "      <th>75%</th>\n",
              "      <td>0.000000</td>\n",
              "      <td>0.000000</td>\n",
              "      <td>0.000000</td>\n",
              "      <td>0.000000</td>\n",
              "      <td>0.000000</td>\n",
              "      <td>0.000000</td>\n",
              "      <td>0.000000</td>\n",
              "      <td>0.00000</td>\n",
              "      <td>0.000000</td>\n",
              "      <td>0.000000</td>\n",
              "      <td>0.000000</td>\n",
              "      <td>0.000000</td>\n",
              "      <td>0.000000</td>\n",
              "      <td>0.000000</td>\n",
              "      <td>1.000000</td>\n",
              "      <td>1.000000</td>\n",
              "      <td>0.000000</td>\n",
              "      <td>0.000000</td>\n",
              "      <td>0.0</td>\n",
              "      <td>0.000000</td>\n",
              "      <td>0.000000</td>\n",
              "      <td>0.000000</td>\n",
              "      <td>0.0</td>\n",
              "      <td>1.000000</td>\n",
              "      <td>0.000000</td>\n",
              "      <td>0.000000</td>\n",
              "      <td>0.000000</td>\n",
              "      <td>3.000000</td>\n",
              "      <td>1.000000</td>\n",
              "      <td>2.000000</td>\n",
              "      <td>1.000000</td>\n",
              "      <td>0.0</td>\n",
              "      <td>0.000000</td>\n",
              "      <td>0.000000</td>\n",
              "      <td>0.000000</td>\n",
              "      <td>5.000000</td>\n",
              "      <td>2016.000000</td>\n",
              "      <td>1.0</td>\n",
              "      <td>1.000000</td>\n",
              "      <td>1.000000</td>\n",
              "    </tr>\n",
              "    <tr>\n",
              "      <th>max</th>\n",
              "      <td>5.000000</td>\n",
              "      <td>5.000000</td>\n",
              "      <td>4.000000</td>\n",
              "      <td>5.000000</td>\n",
              "      <td>5.000000</td>\n",
              "      <td>3.000000</td>\n",
              "      <td>1.000000</td>\n",
              "      <td>1.00000</td>\n",
              "      <td>1.000000</td>\n",
              "      <td>1.000000</td>\n",
              "      <td>1.000000</td>\n",
              "      <td>1.000000</td>\n",
              "      <td>1.000000</td>\n",
              "      <td>1.000000</td>\n",
              "      <td>1.000000</td>\n",
              "      <td>1.000000</td>\n",
              "      <td>1.000000</td>\n",
              "      <td>1.000000</td>\n",
              "      <td>0.0</td>\n",
              "      <td>1.000000</td>\n",
              "      <td>1.000000</td>\n",
              "      <td>1.000000</td>\n",
              "      <td>0.0</td>\n",
              "      <td>1.000000</td>\n",
              "      <td>1.000000</td>\n",
              "      <td>33.000000</td>\n",
              "      <td>44.000000</td>\n",
              "      <td>42.000000</td>\n",
              "      <td>30.000000</td>\n",
              "      <td>3.000000</td>\n",
              "      <td>3.000000</td>\n",
              "      <td>0.0</td>\n",
              "      <td>999.000000</td>\n",
              "      <td>999.000000</td>\n",
              "      <td>999.000000</td>\n",
              "      <td>999.000000</td>\n",
              "      <td>2016.000000</td>\n",
              "      <td>1.0</td>\n",
              "      <td>4.000000</td>\n",
              "      <td>4.000000</td>\n",
              "    </tr>\n",
              "  </tbody>\n",
              "</table>\n",
              "</div>"
            ],
            "text/plain": [
              "       Total number of previous pregnancies, Both IVF and DI  ...  Number of foetal sacs with fetal pulsation\n",
              "count                                      215761.000000      ...                                67655.000000\n",
              "mean                                            0.192315      ...                                    0.341882\n",
              "std                                             0.460268      ...                                    0.568019\n",
              "min                                             0.000000      ...                                    0.000000\n",
              "25%                                             0.000000      ...                                    0.000000\n",
              "50%                                             0.000000      ...                                    0.000000\n",
              "75%                                             0.000000      ...                                    1.000000\n",
              "max                                             5.000000      ...                                    4.000000\n",
              "\n",
              "[8 rows x 40 columns]"
            ]
          },
          "metadata": {
            "tags": []
          },
          "execution_count": 136
        }
      ]
    },
    {
      "cell_type": "code",
      "metadata": {
        "id": "jtFRetQCtTvJ",
        "colab": {
          "base_uri": "https://localhost:8080/"
        },
        "outputId": "e36bc106-a4b7-430a-a675-4f8a51587a2a"
      },
      "source": [
        "#this will help me see all the column unique values and catch things that may create issues\r\n",
        "columns = df.columns\r\n",
        "for col in columns:\r\n",
        "  print(col)\r\n",
        "  print(df[col].unique())"
      ],
      "execution_count": 137,
      "outputs": [
        {
          "output_type": "stream",
          "text": [
            "Patient Age at Treatment\n",
            "['40-42' '45-50' '35-37' '18 - 34' '43-44' '38-39' '999']\n",
            "Total Number of Previous cycles, Both IVF and DI\n",
            "[2 3 0 5 1 4 '2' '0' '1' '5' '3' '4' '>=5']\n",
            "Total Number of Previous IVF cycles\n",
            "[2 3 0 5 4 1 '2' '0' '1' '5' '3' '4' '>=5']\n",
            "Total Number of Previous DI cycles\n",
            "[0 3 5 1 2 4 '0' '2' '3' '>=5' '1' '5' '4']\n",
            "Total number of previous pregnancies, Both IVF and DI\n",
            "[0 1 2 4 3 5]\n",
            "Total number of IVF pregnancies\n",
            "[0 1 2 4 3 5]\n",
            "Total number of DI pregnancies\n",
            "[0 1 3 2 4]\n",
            "Total number of live births - conceived through IVF or DI\n",
            "[0 1 2 3 5 4]\n",
            "Total number of live births - conceived through IVF\n",
            "[0 1 2 3 5 4]\n",
            "Total number of live births - conceived through DI\n",
            "[0 1 2 3]\n",
            "Type of Infertility - Female Primary\n",
            "[0 1]\n",
            "Type of Infertility - Female Secondary\n",
            "[0 1]\n",
            "Type of Infertility - Male Primary\n",
            "[0 1]\n",
            "Type of Infertility - Male Secondary\n",
            "[0 1]\n",
            "Type of Infertility -Couple Primary\n",
            "[0 1]\n",
            "Type of Infertility -Couple Secondary\n",
            "[0 1]\n",
            "Cause  of Infertility - Tubal disease\n",
            "[0 1]\n",
            "Cause of Infertility - Ovulatory Disorder\n",
            "[0 1]\n",
            "Cause of Infertility - Male Factor\n",
            "[0 1]\n",
            "Cause of Infertility - Patient Unexplained\n",
            "[1 0]\n",
            "Cause of Infertility - Endometriosis\n",
            "[0 1]\n",
            "Cause of Infertility - Cervical factors\n",
            "[0 1]\n",
            "Cause of Infertility - Female Factors\n",
            "[0]\n",
            "Cause of Infertility - Partner Sperm Concentration\n",
            "[0 1]\n",
            "Cause of Infertility -  Partner Sperm Morphology\n",
            "[0 1]\n",
            "Causes of Infertility - Partner Sperm Motility\n",
            "[0 1]\n",
            "Cause of Infertility -  Partner Sperm Immunological factors\n",
            "[0]\n",
            "Type of treatment - IVF or DI\n",
            "['IVF']\n",
            "Specific treatment type\n",
            "['IVF' 'ICSI' 'Unknown' 'IVF:IVF' 'ICSI:ICSI' 'IVF:Unknown' 'ICSI:Unknown'\n",
            " 'ICSI:IVF' 'ICSI / BLASTOCYST ' 'IVF:ICSI' 'ICSI / AH' 'FER' 'IVF / AH'\n",
            " 'IVF / BLASTOCYST' 'IVF:Unknown:Unknown:Unknown' 'IVF / AH:ICSI / AH'\n",
            " 'ICSI / AH:Unknown']\n",
            "Egg Source\n",
            "['Patient' 'Donor']\n",
            "Sperm From\n",
            "['Partner' 'Donor' 'not assigned' 'Partner & Donor']\n",
            "Fresh Cycle\n",
            "[0 1]\n",
            "Frozen Cycle\n",
            "[1 0]\n",
            "Eggs Thawed\n",
            "[ 0  3  6  9  8 12  5 10  7 11  4 13 14 16 18  2 15  1 33 17 21 24 19 26\n",
            " 20 25 27 23 29 22 32]\n",
            "Fresh Eggs Collected\n",
            "['0' '4' '12' '6' '1' '31' '8' '11' '34' '10' '3' '2' '14' '7' '15' '30'\n",
            " '17' '16' '5' '13' '21' '33' '9' '22' '19' '37' '24' '23' '27' '18' '40'\n",
            " '20' '26' '38' '25' '46' '32' '29' '> 50' '28' '42' '35' '44' '43' '36'\n",
            " '39' '47' '45' '41' '48' '49' 14 0 7 24 6 11 12 4 1 10 18 3 13 2 15 30 9\n",
            " 5 20 8 34 23 19 45 22 16 32 17 21 26 33 27 38 39 42 25 28 47 31 43 29 35\n",
            " 37 36 41 40 44 '50' 46 49 48 50]\n",
            "Fresh Eggs Stored\n",
            "[ 0  6  4 34 10 17 13  9  1 12 11  5  7  3 27  8 28  2 14 21 18 15 20 16\n",
            " 30 44 24 19 25 35 23 26 22 33 36 31 29 40 32]\n",
            "Total Eggs Mixed\n",
            "['0' '3' '4' '6' '1' '13' '8' '11' '10' '7' '15' '9' '21' '2' '17' '12'\n",
            " '5' '16' '33' '14' '24' '20' '23' '19' '18' '22' '27' '25' '26' '47'\n",
            " '> 50' '28' '36' '29' '38' '34' '30' '32' '37' '31' '43' '42' '35' '46'\n",
            " '45' 14 2 0 17 3 7 9 8 5 4 6 12 10 15 13 1 11 16 18 20 26 22 21 24 19 25\n",
            " 36 23 30 32 29 27 38 28 35 33 31 37 41 48 39 40 34 42 49 44 45 43 46 47\n",
            " '39' '40' '44' '49' '41' 50 '50']\n",
            "Eggs Mixed With Partner Sperm\n",
            "['0' '3' '4' '1' '13' '8' '11' '10' '7' '15' '9' '6' '2' '17' '12' '5'\n",
            " '16' '33' '14' '24' '21' '23' '19' '18' '20' '22' '25' '26' '27' '47'\n",
            " '> 50' '28' '36' '29' '38' '34' '30' '37' '31' '43' '32' '42' '35' '46'\n",
            " '45' 14 2 0 17 3 9 8 5 7 4 6 12 10 15 13 1 11 16 18 20 26 22 21 24 19 25\n",
            " 36 30 32 29 27 38 28 35 23 33 31 37 41 48 39 40 34 42 49 44 43 46 47 '39'\n",
            " '40' '44' '49' '41' 50 '50' 45]\n",
            "Eggs Mixed With Donor sperm\n",
            "[0 6 4 3 20 17 12 1 9 5 10 13 8 7 22 11 19 16 15 21 25 18 14 2 47 23 27 31\n",
            " 29 28 32 33 26 37 30 24 35 45 42 36 '0' '7' '4' '6' '20' '10' '3' '1'\n",
            " '12' '9' '11' '33' '18' '8' '5' '2' '15' '13' '17' '19' '34' '26' '21'\n",
            " '14' '22' '30' '16' '25' '23' '31' '> 50' 38 44 40 41 34]\n",
            "Total Embryos Created\n",
            "['0' '3' '4' '1' '8' '6' '2' '9' '7' '5' '12' '17' '13' '10' '11' '24'\n",
            " '14' '15' '16' '18' '19' '20' '26' '43' '28' '23' '21' '> 50' '22' '27'\n",
            " '25' '30' '31' 7 0 8 2 3 6 10 9 5 4 12 1 11 14 13 17 16 23 15 18 24 22 26\n",
            " 30 20 19 21 32 25 33 31 27 34 28 29 37 35 36 39 40 38 41 43 42]\n",
            "Eggs Micro-injected\n",
            "[0 3 4 6 1 13 10 9 2 7 12 11 14 8 15 24 17 21 5 20 19 18 16 33 27 47 31 26\n",
            " 36 22 34 23 30 28 37 25 35 45 38 29 32 42 41 39 40 46 '9' '5' '20' '0'\n",
            " '16' '4' '6' '3' '21' '13' '7' '2' '1' '11' '8' '18' '12' '17' '10' '19'\n",
            " '14' '26' '23' '15' '39' '33' '24' '45' '25' '27' '28' '22' '30' '43'\n",
            " '> 50' '31' '34' '35' '32' '29' '37' 44 49 43 50]\n",
            "Embryos from Eggs Micro-injected\n",
            "[ 0  3  4  1  8  6  9  7  5  2 11 14 15 16 10 12 18 13 17 26 20 27 28 22\n",
            " 23 25 21 19 31 24 30 37 32 29 34 39 36 41 33 42]\n",
            "Total Embryos Thawed\n",
            "[ 1  0  2  4  3  5  6 10  8 11  7 15  9 14 16 12 13 21 18 19 17 23 22 26\n",
            " 24 27 30]\n",
            "Embryos Transfered\n",
            "[1 2 0 3]\n",
            "Embryos Transfered from Eggs Micro-injected\n",
            "[0 2 3 1]\n",
            "Embryos Stored For Use By Patient\n",
            "[0 1 2 5 3 8 4 7 10 6 9 11 14 12 20 15 13 22 16 17 23 18 21 19 28 25 24 30\n",
            " 32 34 31 26 33 37 27 '0' '9' '4' '5' '2' '3' '13' '7' '12' '6' '1' '8'\n",
            " '10' '21' '14' '29' '22' '11' '19' '18' '34' '16' '17' '15' '> 50' '20'\n",
            " '24' 29 36]\n",
            "Embryos (from Eggs Micro-injected) Stored For Use By Patient\n",
            "[0 1 3 2 5 7 10 6 4 9 12 11 8 20 15 13 16 17 23 21 14 28 18 25 24 19 30 34\n",
            " 22 26 27 '0' '9' '4' '5' '3' '13' '7' '2' '6' '1' '8' '10' '14' '29' '12'\n",
            " '18' '11' '19' '> 50' '15' '24']\n",
            "Date of Egg Collection\n",
            "[nan  0.]\n",
            "Date of Egg Thawing\n",
            "[ nan   0. 999.   5.   1.]\n",
            "Date of Egg Mixing\n",
            "[ nan   0.   6.   1.   2. 999.   5.   3.   4.]\n",
            "Date of Embryo Thawing\n",
            "[  0.  nan   5. 999.   1.   3.   6.   4.   2.   7.]\n",
            "Date of Embryo Transfer\n",
            "[  0.   5.  nan   3.   1.   2.   6. 999.   4.   7.]\n",
            "Year of Treatment\n",
            "[2016 2015 2014]\n",
            "Live Birth Occurrence\n",
            "[ 1. nan]\n",
            "Number of Live Births\n",
            "[1 0 2 3 4]\n",
            "Early Outcome\n",
            "['Intrauterine Fetal Pulsation Seen ' 'None ' nan\n",
            " 'Biochemical Pregnancy Only ' 'Misscarriage '\n",
            " 'Misscarriage ,Intrauterine Fetal Pulsation Seen ' 'Ectopic '\n",
            " 'None ,Intrauterine Fetal Pulsation Seen ' 'Hetrotopic '\n",
            " 'Hetrotopic ,Intrauterine Fetal Pulsation Seen ' 'None ,Misscarriage '\n",
            " 'None ,Biochemical Pregnancy Only '\n",
            " 'Biochemical Pregnancy Only ,Misscarriage ' 'Molar '\n",
            " 'Biochemical Pregnancy Only ,Intrauterine Fetal Pulsation Seen '\n",
            " 'Ectopic ,Hetrotopic ' 'Molar ,Intrauterine Fetal Pulsation Seen '\n",
            " 'None ,Ectopic ' 'Misscarriage ,Ectopic ' 'None ,Molar '\n",
            " 'Ectopic ,Intrauterine Fetal Pulsation Seen ']\n",
            "Heart One Weeks Gestation\n",
            "['39' nan '35' '38' 'Greater than 40 weeks' '40' '37' '36'\n",
            " 'Less than 30 weeks' '31' '30' '34' '32' '33']\n",
            "Heart One Birth Outcome\n",
            "['Live  Birth' nan 'Miscarriage' 'Still Birth' 'Lost to Follow Up'\n",
            " 'Termination' 'Embryo Reduction' 'Ectotopic/Hetrotopic Pregnancy']\n",
            "Heart Two Weeks Gestation\n",
            "[nan '37' '38' '36' '35' 'Greater than 40 weeks' 'Less than 30 weeks' '39'\n",
            " '33' '34' '40' '31' '32' '30' 38.0 37.0 35.0 36.0 39.0 32.0]\n",
            "Heart Two Birth Outcome\n",
            "[nan 'Live  Birth' 'Miscarriage' 'Still Birth' 'Embryo Reduction'\n",
            " 'Ectotopic/Hetrotopic Pregnancy']\n",
            "Heart Three Weeks Gestation\n",
            "[nan 'Less than 30 weeks' '31' '32' '34' 36.0 34.0 38.0 37.0 31.0 33.0\n",
            " 40.0 30.0 35.0 '33' '35' '40' '37' 32.0 '36' '38' '39'\n",
            " 'Greater than 40 weeks' '30']\n",
            "Heart Three Birth Outcome\n",
            "[nan 'Live  Birth' 'Miscarriage' 'Embryo Reduction' 'Still Birth']\n",
            "Heart Four Weeks Gestation\n",
            "[nan 'Less than 30 weeks']\n",
            "Heart Four Birth Outcome\n",
            "[nan 'Live  Birth']\n",
            "Number of foetal sacs with fetal pulsation\n",
            "[nan  0.  1.  2.  3.  4.]\n"
          ],
          "name": "stdout"
        }
      ]
    },
    {
      "cell_type": "markdown",
      "metadata": {
        "id": "3y1XHpQ8kGRk"
      },
      "source": [
        "## Preprocess the Data\r\n",
        "What needs to be done to preprocess the data?"
      ]
    },
    {
      "cell_type": "markdown",
      "metadata": {
        "id": "_zUnhyuaBt-1"
      },
      "source": [
        "- I will need to exclude outcome related columns from the model? Because I want to use the treatment to predict the outcome so if anything about the outcome is in the dataset when it is modeled it will likely affect the model. \r\n",
        "- I see several rows have 999 values instead of a realistic value, this needs to be corrected.\r\n",
        "  - Columns with 999 values: Patient Age at Treatment, Date of Egg Thawing, Date of Egg Mixing, Date of Embryo Thawing, Date of Embryo Transfer\r\n",
        "- Some numbers are showing up as strings, this needs to be corrected.\r\n",
        "  - Columns affected: 'Fresh Eggs Collected','Total Eggs Mixed','Eggs Mixed With Partner Sperm',\r\n",
        "'Total Embryos Created','Eggs Micro-injected'\r\n",
        "- I need to change all strings to lowercase only and fix spelling as needed\r\n",
        "- I want to standardize number ranges to #-# with no spaces\r\n",
        "- in the \"Early Outcome\" column change None to nan\r\n",
        "Also fix spelling \r\n"
      ]
    },
    {
      "cell_type": "code",
      "metadata": {
        "id": "4ZHBdl2kv3v8"
      },
      "source": [
        "#Preprocess the data\r\n",
        "\r\n",
        "#There are only nan values in 'Date of Egg Collection' so it should be dropped\r\n",
        "#Any column that describes the outcome after treatment need to be dropped from the dataframe\r\n",
        "#Leave the Target in the dataframe (I have not chosen a target yet so I am keeping Live Birth Occurrence, Number of Live Births, and Early Outcome)\r\n",
        "dropcols = ['Date of Egg Collection','Heart One Weeks Gestation','Heart Two Weeks Gestation',\r\n",
        "              'Heart Three Weeks Gestation','Heart Four Weeks Gestation','Heart One Birth Outcome',\r\n",
        "              'Heart Two Birth Outcome','Heart Three Birth Outcome','Heart Four Birth Outcome',\r\n",
        "              'Number of foetal sacs with fetal pulsation']\r\n",
        "df = df.drop(columns= dropcols)\r\n",
        "\r\n",
        "#Clean the data \r\n",
        "df = df[(df[\"Patient Age at Treatment\"] != 999) & (df[\"Patient Age at Treatment\"] != '999')]\r\n",
        "cleanages = {\"Patient Age at Treatment\": {'18 - 34':1,'35-37':2,'38-39':3,'40-42':4,'43-44':5,'45-50':6}}\r\n",
        "df = df.replace(cleanages)  \r\n",
        "df[\"Early Outcome\"] = df[\"Early Outcome\"].replace(np.nan,'None ').replace('None ','ZERO').replace(999,0)\r\n",
        "df['Early Outcome'] = df['Early Outcome'].str.strip('None ,').replace('Misscarriag','Misscarriage')\r\n",
        "\r\n",
        "#999 is a known value for unknown data for this dataset. Replacing the occurances with 0 for the following columns\r\n",
        "replace999 = ['Date of Egg Thawing','Date of Egg Mixing','Date of Embryo Thawing','Date of Embryo Transfer']\r\n",
        "for col in replace999:\r\n",
        "  df[col] = df[col].replace(\"999\",0).replace(999,0)\r\n",
        "\r\n",
        "#replace NAN with 0 so column reads as int\r\n",
        "nantozero = [replace999,'Live Birth Occurrence']\r\n",
        "for col in nantozero:\r\n",
        "  df[col] = df[col].replace(np.nan,0).astype(int)\r\n",
        "\r\n",
        "#replace occurances of '> 50' with 50\r\n",
        "fixgrint = ['Fresh Eggs Collected','Eggs Mixed With Partner Sperm','Total Eggs Mixed','Eggs Mixed With Donor sperm','Total Embryos Created','Eggs Micro-injected','Embryos Stored For Use By Patient','Embryos (from Eggs Micro-injected) Stored For Use By Patient']\r\n",
        "for col in fixgrint:\r\n",
        "  df[col] = df[col].replace('> 50',50).astype(int)\r\n",
        "\r\n",
        "#replace occurances of '>=5'\r\n",
        "fixgreqint = ['Total Number of Previous DI cycles','Total Number of Previous cycles, Both IVF and DI','Total Number of Previous IVF cycles']\r\n",
        "for col in fixgreqint:\r\n",
        "  df[col] = df[col].replace('>=5',5).astype(int)\r\n",
        "\r\n",
        "#encode categorical variables\r\n",
        "encode = [\"Type of treatment - IVF or DI\",\"Specific treatment type\",\"Egg Source\",\"Sperm From\",\"Early Outcome\"]\r\n",
        "for col in encode:\r\n",
        "  df[col] = df[col].astype('category').cat.codes"
      ],
      "execution_count": 138,
      "outputs": []
    },
    {
      "cell_type": "markdown",
      "metadata": {
        "id": "vPCmxi4WxQqG"
      },
      "source": [
        "### **Choose a target** "
      ]
    },
    {
      "cell_type": "code",
      "metadata": {
        "id": "mZop-hgGxV6u",
        "colab": {
          "base_uri": "https://localhost:8080/"
        },
        "outputId": "f9500025-7990-4926-8dc2-77bd1a501e05"
      },
      "source": [
        "#This will show me what the distribution of each category is.\r\n",
        "print(df['Live Birth Occurrence'].value_counts(normalize= True))"
      ],
      "execution_count": 139,
      "outputs": [
        {
          "output_type": "stream",
          "text": [
            "0    0.744878\n",
            "1    0.255122\n",
            "Name: Live Birth Occurrence, dtype: float64\n"
          ],
          "name": "stdout"
        }
      ]
    },
    {
      "cell_type": "markdown",
      "metadata": {
        "id": "HWeQmWaKaDCO"
      },
      "source": [
        "**What is my target metric?**\r\n",
        "- I chose Live Birth Occurrence as the target metric\r\n",
        " \r\n",
        "**How did I choose that target metric?**\r\n",
        "- This column holds a binary classification for if the treatment worked (1) or did not work (0)\r\n",
        " \r\n",
        "**Will this be a linear regression task or a classification regression task?**\r\n",
        "- This will be a classification regression task because the target is binary.    \r\n",
        " \r\n",
        "**What is my evaluation metric?**\r\n",
        "- My evaluation metric will be precision.\r\n",
        " \r\n",
        "**How did I choose that evaluation metric?**\r\n",
        "- I chose my evaluation metric because I am predicting a binary categorical variable. Live birth outcome only evaluates to 1 if the treatment was successful and a live birth was achieved through IVF treatment. The treatment cannot be nearly successful. It either is or is not.\r\n",
        " \r\n",
        "**What in my dataset could cause leakage?**\r\n",
        "- Any column that describes the outcome of the treatment could have an affect on the results of the model. I want the elements of the treatment process to be the only inputs of the model.\r\n",
        " \r\n",
        "**How will I avoid leakage in my modeling process?**\r\n",
        "- I will drop any columns that relate to the outcome of the treatment except for the target. \r\n",
        "\r\n"
      ]
    },
    {
      "cell_type": "code",
      "metadata": {
        "id": "2TyRdgRbay9Q"
      },
      "source": [
        "#split into train val test\r\n",
        "train = df[(df['Year of Treatment']==2016)]\r\n",
        "val =  df[(df['Year of Treatment']==2015)]\r\n",
        "test = df[(df['Year of Treatment']==2014)]\r\n",
        "\r\n",
        "#separate the columns that deal with information about treatment and outcomes. \r\n",
        "outcomes = ['Live Birth Occurrence','Number of Live Births','Early Outcome']\r\n",
        "df_features = df.drop(columns=outcomes)\r\n",
        "treatment = df_features.columns\r\n",
        "\r\n",
        "#set target \r\n",
        "target = 'Live Birth Occurrence'\r\n",
        "# Arrange data into X features matrix and y target vector\r\n",
        "X_train = train[treatment]\r\n",
        "y_train = train[target]\r\n",
        "X_val = val[treatment]\r\n",
        "y_val = val[target]\r\n",
        "#only use the testing set once!\r\n",
        "X_test = test[treatment]\r\n",
        "y_test = test[target]"
      ],
      "execution_count": 140,
      "outputs": []
    },
    {
      "cell_type": "code",
      "metadata": {
        "colab": {
          "base_uri": "https://localhost:8080/"
        },
        "id": "7oGz5TQFkpxh",
        "outputId": "ba84568d-5e36-4dda-dc26-6c577905b4d1"
      },
      "source": [
        "X_train.shape, X_val.shape, X_test.shape, y_train.shape, y_val.shape, y_test.shape"
      ],
      "execution_count": 141,
      "outputs": [
        {
          "output_type": "execute_result",
          "data": {
            "text/plain": [
              "((74791, 52), (70927, 52), (66635, 52), (74791,), (70927,), (66635,))"
            ]
          },
          "metadata": {
            "tags": []
          },
          "execution_count": 141
        }
      ]
    },
    {
      "cell_type": "markdown",
      "metadata": {
        "id": "c-awxA0bbDD6"
      },
      "source": [
        "\r\n",
        "\r\n",
        "\r\n",
        "\r\n",
        "\r\n",
        "\r\n",
        "\r\n",
        "## Baseline"
      ]
    },
    {
      "cell_type": "code",
      "metadata": {
        "id": "dS3j82K1bAzX",
        "colab": {
          "base_uri": "https://localhost:8080/"
        },
        "outputId": "f099b528-86a8-4397-9b3f-c92133d5d828"
      },
      "source": [
        "#Baseline\r\n",
        "baseline = y_train.value_counts(normalize=True).max()\r\n",
        "print('Baseline Accuracy:', y_train.value_counts(normalize=True).max())"
      ],
      "execution_count": 142,
      "outputs": [
        {
          "output_type": "stream",
          "text": [
            "Baseline Accuracy: 0.7517348344052092\n"
          ],
          "name": "stdout"
        }
      ]
    },
    {
      "cell_type": "markdown",
      "metadata": {
        "id": "tduPgJ4KdI3N"
      },
      "source": [
        "## First Model"
      ]
    },
    {
      "cell_type": "code",
      "metadata": {
        "id": "W3FXd022bNpx",
        "colab": {
          "base_uri": "https://localhost:8080/"
        },
        "outputId": "ae73ff5e-1e37-40bc-ea3f-b0697a5facd9"
      },
      "source": [
        "#First Model\r\n",
        "#Linear model for classification\r\n",
        "model1_1 = make_pipeline(\r\n",
        "    SimpleImputer(),\r\n",
        "    LogisticRegression(solver='lbfgs', multi_class='auto', n_jobs=-1)\r\n",
        ")\r\n",
        "\r\n",
        "model1_1.fit(X_train, y_train)"
      ],
      "execution_count": 143,
      "outputs": [
        {
          "output_type": "execute_result",
          "data": {
            "text/plain": [
              "Pipeline(memory=None,\n",
              "         steps=[('simpleimputer',\n",
              "                 SimpleImputer(add_indicator=False, copy=True, fill_value=None,\n",
              "                               missing_values=nan, strategy='mean',\n",
              "                               verbose=0)),\n",
              "                ('logisticregression',\n",
              "                 LogisticRegression(C=1.0, class_weight=None, dual=False,\n",
              "                                    fit_intercept=True, intercept_scaling=1,\n",
              "                                    l1_ratio=None, max_iter=100,\n",
              "                                    multi_class='auto', n_jobs=-1, penalty='l2',\n",
              "                                    random_state=None, solver='lbfgs',\n",
              "                                    tol=0.0001, verbose=0, warm_start=False))],\n",
              "         verbose=False)"
            ]
          },
          "metadata": {
            "tags": []
          },
          "execution_count": 143
        }
      ]
    },
    {
      "cell_type": "code",
      "metadata": {
        "id": "I6j3kPywdo3H",
        "colab": {
          "base_uri": "https://localhost:8080/"
        },
        "outputId": "d468585e-cd26-4c33-8b91-ead0b20a9bea"
      },
      "source": [
        "#Evaluate the first model\r\n",
        "first_model_train_score = model1_1.score(X_train, y_train)\r\n",
        "first_model_baseline_training_set = first_model_train_score - baseline\r\n",
        "print('First Model Training Accuracy:', first_model_train_score)\r\n",
        "print('Did the first model do better than the baseline on the training dataset?')\r\n",
        "if (first_model_baseline_training_set)>0:\r\n",
        "  print('Yes it did, by', first_model_baseline_training_set)\r\n",
        "else:\r\n",
        "  print('No, it did worse by', first_model_baseline_training_set)\r\n",
        "\r\n",
        "print(' ')\r\n",
        "first_model_val_score = model1_1.score(X_val, y_val)\r\n",
        "first_model_baseline_validation_set = first_model_val_score - baseline\r\n",
        "print('First Model Validation Accuracy:', first_model_val_score)\r\n",
        "print('Did the first model do better than the baseline on the validation dataset?')\r\n",
        "if (first_model_baseline_validation_set)>0:\r\n",
        "  print('Yes it did, by', first_model_baseline_validation_set)\r\n",
        "else:\r\n",
        "  print('No, it did worse by', first_model_baseline_validation_set)"
      ],
      "execution_count": 144,
      "outputs": [
        {
          "output_type": "stream",
          "text": [
            "First Model Training Accuracy: 0.7478974742950355\n",
            "Did the first model do better than the baseline on the training dataset?\n",
            "No, it did worse by -0.00383736011017366\n",
            " \n",
            "First Model Validation Accuracy: 0.7391402427848351\n",
            "Did the first model do better than the baseline on the validation dataset?\n",
            "No, it did worse by -0.012594591620374018\n"
          ],
          "name": "stdout"
        }
      ]
    },
    {
      "cell_type": "code",
      "metadata": {
        "id": "lorIAQ8ccWOs",
        "colab": {
          "base_uri": "https://localhost:8080/"
        },
        "outputId": "38f73f59-24ca-4fd0-f236-9756d50277e3"
      },
      "source": [
        "#Tune the first model\r\n",
        "model1_2 = make_pipeline(\r\n",
        "    SimpleImputer(),\r\n",
        "    LogisticRegression(solver='sag', multi_class='auto', n_jobs=-1)\r\n",
        ")\r\n",
        "\r\n",
        "model1_2.fit(X_train, y_train)"
      ],
      "execution_count": 145,
      "outputs": [
        {
          "output_type": "stream",
          "text": [
            "/usr/local/lib/python3.6/dist-packages/sklearn/linear_model/_sag.py:330: ConvergenceWarning: The max_iter was reached which means the coef_ did not converge\n",
            "  \"the coef_ did not converge\", ConvergenceWarning)\n"
          ],
          "name": "stderr"
        },
        {
          "output_type": "execute_result",
          "data": {
            "text/plain": [
              "Pipeline(memory=None,\n",
              "         steps=[('simpleimputer',\n",
              "                 SimpleImputer(add_indicator=False, copy=True, fill_value=None,\n",
              "                               missing_values=nan, strategy='mean',\n",
              "                               verbose=0)),\n",
              "                ('logisticregression',\n",
              "                 LogisticRegression(C=1.0, class_weight=None, dual=False,\n",
              "                                    fit_intercept=True, intercept_scaling=1,\n",
              "                                    l1_ratio=None, max_iter=100,\n",
              "                                    multi_class='auto', n_jobs=-1, penalty='l2',\n",
              "                                    random_state=None, solver='sag', tol=0.0001,\n",
              "                                    verbose=0, warm_start=False))],\n",
              "         verbose=False)"
            ]
          },
          "metadata": {
            "tags": []
          },
          "execution_count": 145
        }
      ]
    },
    {
      "cell_type": "code",
      "metadata": {
        "id": "Ya-7rXS9duSN",
        "colab": {
          "base_uri": "https://localhost:8080/"
        },
        "outputId": "cfb16c70-6dce-4ef1-d038-b540d241e34b"
      },
      "source": [
        "#Evaluate the first tuned model\r\n",
        "first_model_tuned_train_score = model1_2.score(X_train, y_train)\r\n",
        "print('First Model Tuned Training Accuracy:', first_model_tuned_train_score)\r\n",
        "print('Did the model improve on the Training Accuracy?')\r\n",
        "if (first_model_tuned_train_score - first_model_train_score)>0: \r\n",
        "  print('Yes it did, by', first_model_tuned_train_score - first_model_train_score) \r\n",
        "else: print('No, it did worse by', first_model_tuned_train_score - first_model_train_score)\r\n",
        "\r\n",
        "print(\" \")\r\n",
        "first_tuned_model_baseline_training_set = first_model_tuned_train_score - baseline\r\n",
        "print('Did the tuned first model do better than the baseline on the training dataset?')\r\n",
        "if (first_tuned_model_baseline_training_set)>0:\r\n",
        "  print('Yes it did, by',first_tuned_model_baseline_training_set)\r\n",
        "else:\r\n",
        "  print('No, it did worse by',first_tuned_model_baseline_training_set)\r\n",
        "\r\n",
        "print(\" \")\r\n",
        "first_model_tuned_val_score = model1_2.score(X_val, y_val)\r\n",
        "print('First Model Tuned Validation Accuracy:', first_model_tuned_val_score)\r\n",
        "print('Did the model improve on the Validation Accuracy?')\r\n",
        "if (first_model_tuned_val_score - first_model_val_score)>0: \r\n",
        "  print('Yes it did, by', first_model_tuned_val_score - first_model_val_score) \r\n",
        "else: print('No, it did worse by', first_model_tuned_val_score - first_model_val_score)\r\n",
        "\r\n",
        "print(\" \")\r\n",
        "first_tuned_model_baseline_validation_set = first_model_tuned_val_score - baseline\r\n",
        "print('Did the tuned first model do better than the baseline on the validation dataset?')\r\n",
        "if (first_tuned_model_baseline_validation_set)>0:\r\n",
        "  print('Yes it did, by',first_tuned_model_baseline_validation_set)\r\n",
        "else:\r\n",
        "  print('No, it did worse by',first_tuned_model_baseline_validation_set)"
      ],
      "execution_count": 146,
      "outputs": [
        {
          "output_type": "stream",
          "text": [
            "First Model Tuned Training Accuracy: 0.748378815632897\n",
            "Did the model improve on the Training Accuracy?\n",
            "Yes it did, by 0.00048134133786148503\n",
            " \n",
            "Did the tuned first model do better than the baseline on the training dataset?\n",
            "No, it did worse by -0.003356018772312175\n",
            " \n",
            "First Model Tuned Validation Accuracy: 0.7404796480888801\n",
            "Did the model improve on the Validation Accuracy?\n",
            "Yes it did, by 0.0013394053040449716\n",
            " \n",
            "Did the tuned first model do better than the baseline on the validation dataset?\n",
            "No, it did worse by -0.011255186316329047\n"
          ],
          "name": "stdout"
        }
      ]
    },
    {
      "cell_type": "code",
      "metadata": {
        "id": "WGAfBWORhs7f",
        "colab": {
          "base_uri": "https://localhost:8080/",
          "height": 114
        },
        "outputId": "15a3f756-97e1-45b8-8aff-17f8a0a4ced1"
      },
      "source": [
        "#Evaluate the model to see if the first iteration was better than the second or vise-versa\r\n",
        "evaluate1 = {\r\n",
        "    'Model Name': ['Model 1'],\r\n",
        "    'Train 1': [first_model_train_score],\r\n",
        "    'Train 2': [first_model_tuned_train_score],\r\n",
        "    'Val 1': [first_model_val_score],\r\n",
        "    'Val 2': [first_model_tuned_val_score]\r\n",
        "}\r\n",
        "\r\n",
        "evaluate1 = pd.DataFrame.from_dict(evaluate1)\r\n",
        "\r\n",
        "evaluate1['Train Score'] = evaluate1['Train 2'] - evaluate1['Train 1']\r\n",
        "evaluate1['Val Score'] = evaluate1['Val 2'] - evaluate1['Val 1']\r\n",
        "\r\n",
        "print('Of the first model and the first tuned model, which improved the most on the baseline?')\r\n",
        "if ((evaluate1['Train Score']>0).any() | (evaluate1['Val Score']>0).any()):\r\n",
        "  evaluate1['Best Model'] = 'model1_2'\r\n",
        "  print('The first model is better AFTER being tuned')\r\n",
        "  first_model = model1_2\r\n",
        "#elif ((evaluate1['Val Score']>0).any() | (evaluate1['Train Score']<0).any()):\r\n",
        "#  evaluate1['Best Model'] = 'model1_2'\r\n",
        "#  print('The first model is better AFTER being tuned')\r\n",
        "#  first_model = model1_2\r\n",
        "else: \r\n",
        "  evaluate1['Best Model'] = 'model1_1'\r\n",
        "  first_model = model1_1\r\n",
        "  print('The first model is better BEFORE being tuned')\r\n",
        "\r\n",
        "evaluate1.head()"
      ],
      "execution_count": 147,
      "outputs": [
        {
          "output_type": "stream",
          "text": [
            "Of the first model and the first tuned model, which improved the most on the baseline?\n",
            "The first model is better AFTER being tuned\n"
          ],
          "name": "stdout"
        },
        {
          "output_type": "execute_result",
          "data": {
            "text/html": [
              "<div>\n",
              "<style scoped>\n",
              "    .dataframe tbody tr th:only-of-type {\n",
              "        vertical-align: middle;\n",
              "    }\n",
              "\n",
              "    .dataframe tbody tr th {\n",
              "        vertical-align: top;\n",
              "    }\n",
              "\n",
              "    .dataframe thead th {\n",
              "        text-align: right;\n",
              "    }\n",
              "</style>\n",
              "<table border=\"1\" class=\"dataframe\">\n",
              "  <thead>\n",
              "    <tr style=\"text-align: right;\">\n",
              "      <th></th>\n",
              "      <th>Model Name</th>\n",
              "      <th>Train 1</th>\n",
              "      <th>Train 2</th>\n",
              "      <th>Val 1</th>\n",
              "      <th>Val 2</th>\n",
              "      <th>Train Score</th>\n",
              "      <th>Val Score</th>\n",
              "      <th>Best Model</th>\n",
              "    </tr>\n",
              "  </thead>\n",
              "  <tbody>\n",
              "    <tr>\n",
              "      <th>0</th>\n",
              "      <td>Model 1</td>\n",
              "      <td>0.747897</td>\n",
              "      <td>0.748379</td>\n",
              "      <td>0.73914</td>\n",
              "      <td>0.74048</td>\n",
              "      <td>0.000481</td>\n",
              "      <td>0.001339</td>\n",
              "      <td>model1_2</td>\n",
              "    </tr>\n",
              "  </tbody>\n",
              "</table>\n",
              "</div>"
            ],
            "text/plain": [
              "  Model Name   Train 1   Train 2  ...  Train Score  Val Score  Best Model\n",
              "0    Model 1  0.747897  0.748379  ...     0.000481   0.001339    model1_2\n",
              "\n",
              "[1 rows x 8 columns]"
            ]
          },
          "metadata": {
            "tags": []
          },
          "execution_count": 147
        }
      ]
    },
    {
      "cell_type": "code",
      "metadata": {
        "id": "4DYyFPtmfGHZ",
        "colab": {
          "base_uri": "https://localhost:8080/",
          "height": 279
        },
        "outputId": "4418f994-aa1a-4cd5-dd3c-d2206180932a"
      },
      "source": [
        "#Plot the Confusion Matrix for the first model\r\n",
        "plot_confusion_matrix(first_model,\r\n",
        "                      X_val, # <-- use validation data\r\n",
        "                      y_val,\r\n",
        "                      values_format='.0f',\r\n",
        "                      display_labels=['Failed Treatment','Live Birth']);"
      ],
      "execution_count": 148,
      "outputs": [
        {
          "output_type": "display_data",
          "data": {
            "image/png": "[encoded data removed]",
            "text/plain": [
              "<Figure size 432x288 with 2 Axes>"
            ]
          },
          "metadata": {
            "tags": [],
            "needs_background": "light"
          }
        }
      ]
    },
    {
      "cell_type": "code",
      "metadata": {
        "id": "y6HrjVJ3jX8s"
      },
      "source": [
        "TruePositive1 = 639 #Predicted live birth, actual live birth\r\n",
        "TrueNegative1 = 51888 #Predicted failed treatment, actual failed treatment\r\n",
        "FalsePositive1 = 890 #Predicted live birth, but was a failed treatment\r\n",
        "FalseNegative1 = 17510 #Predicted failed treatment, but resulted in a live birth"
      ],
      "execution_count": 149,
      "outputs": []
    },
    {
      "cell_type": "code",
      "metadata": {
        "id": "bm03gRXnepxo",
        "colab": {
          "base_uri": "https://localhost:8080/",
          "height": 295
        },
        "outputId": "00695ae9-6a12-4c7c-db67-ca97a473a3e3"
      },
      "source": [
        "#Plot the ROC curve or Precision Recall Curve for the first model\r\n",
        "y_pred_proba = first_model.predict_proba(X_val)[:,-1]\r\n",
        "\r\n",
        "fpr, tpr, thresholds = roc_curve(y_val, y_pred_proba)\r\n",
        "\r\n",
        "# See the results in a table\r\n",
        "pd.DataFrame({\r\n",
        "    'False Positive Rate': fpr, \r\n",
        "    'True Positive Rate': tpr, \r\n",
        "    'Threshold': thresholds\r\n",
        "})\r\n",
        "plt.plot(fpr, tpr, color='blue')\r\n",
        "plt.plot((0,1), (0,1), color='red')\r\n",
        "plt.title('ROC curve')\r\n",
        "plt.xlabel('False Positive Rate')\r\n",
        "plt.ylabel('True Positive Rate');"
      ],
      "execution_count": 150,
      "outputs": [
        {
          "output_type": "display_data",
          "data": {
            "image/png": "[encoded data removed]",
            "text/plain": [
              "<Figure size 432x288 with 1 Axes>"
            ]
          },
          "metadata": {
            "tags": [],
            "needs_background": "light"
          }
        }
      ]
    },
    {
      "cell_type": "markdown",
      "metadata": {
        "id": "qgAiI2u9dNIb"
      },
      "source": [
        "## Second Model"
      ]
    },
    {
      "cell_type": "code",
      "metadata": {
        "id": "7GBrpxQPcrI5",
        "colab": {
          "base_uri": "https://localhost:8080/"
        },
        "outputId": "97977f52-31a5-4b42-b7f0-31b2226324f6"
      },
      "source": [
        "#Second Model\r\n",
        "#Tree-based model (Decision Tree)\r\n",
        "model2_1 = make_pipeline(\r\n",
        "    ce.OneHotEncoder(use_cat_names=True), \r\n",
        "    SimpleImputer(strategy='most_frequent'), \r\n",
        "    DecisionTreeClassifier(random_state=42)\r\n",
        ")\r\n",
        "\r\n",
        "model2_1.fit(X_train, y_train);"
      ],
      "execution_count": 151,
      "outputs": [
        {
          "output_type": "stream",
          "text": [
            "/usr/local/lib/python3.6/dist-packages/category_encoders/utils.py:21: FutureWarning: is_categorical is deprecated and will be removed in a future version.  Use is_categorical_dtype instead\n",
            "  elif pd.api.types.is_categorical(cols):\n"
          ],
          "name": "stderr"
        }
      ]
    },
    {
      "cell_type": "code",
      "metadata": {
        "colab": {
          "base_uri": "https://localhost:8080/"
        },
        "id": "3SbX9DzK-tAy",
        "outputId": "fe95ff01-1e20-475a-a4a0-f1dbfeaca0b4"
      },
      "source": [
        "#Evaluate the second model\r\n",
        "second_model_train_score = model2_1.score(X_train, y_train)\r\n",
        "second_model_baseline_training_set = second_model_train_score - baseline\r\n",
        "print('Second Model Training Accuracy:', second_model_train_score)\r\n",
        "print('Did the second model do better than the baseline on the training dataset?')\r\n",
        "if (second_model_baseline_training_set)>0:\r\n",
        "  print('Yes it did, by', second_model_baseline_training_set)\r\n",
        "else:\r\n",
        "  print('No, it did worse by', second_model_baseline_training_set)\r\n",
        "print(' ')\r\n",
        "second_model_val_score = model2_1.score(X_val, y_val)\r\n",
        "second_model_baseline_validation_set = second_model_val_score - baseline\r\n",
        "print('Second Model Validation Accuracy:', second_model_val_score)\r\n",
        "print('Did the second model do better than the baseline on the validation dataset?')\r\n",
        "if (second_model_baseline_validation_set)>0:\r\n",
        "  print('Yes it did, by', second_model_baseline_validation_set)\r\n",
        "else:\r\n",
        "  print('No, it did worse by', second_model_baseline_validation_set)"
      ],
      "execution_count": 152,
      "outputs": [
        {
          "output_type": "stream",
          "text": [
            "Second Model Training Accuracy: 0.9191346552392667\n",
            "Did the second model do better than the baseline on the training dataset?\n",
            "Yes it did, by 0.16739982083405758\n",
            " \n",
            "Second Model Validation Accuracy: 0.6880595541895188\n",
            "Did the second model do better than the baseline on the validation dataset?\n",
            "No, it did worse by -0.06367528021569036\n"
          ],
          "name": "stdout"
        }
      ]
    },
    {
      "cell_type": "code",
      "metadata": {
        "id": "QC4yh4kCdESf",
        "colab": {
          "base_uri": "https://localhost:8080/"
        },
        "outputId": "f1e964b5-c95b-41e5-89ca-1d6ff18d4c98"
      },
      "source": [
        "#Tune the second model\r\n",
        "model2_2 = make_pipeline(\r\n",
        "    ce.OneHotEncoder(use_cat_names=True), \r\n",
        "    SimpleImputer(strategy='constant'), \r\n",
        "    DecisionTreeClassifier(random_state=42,max_depth=10)\r\n",
        ")\r\n",
        "\r\n",
        "model2_2.fit(X_train, y_train);"
      ],
      "execution_count": 153,
      "outputs": [
        {
          "output_type": "stream",
          "text": [
            "/usr/local/lib/python3.6/dist-packages/category_encoders/utils.py:21: FutureWarning: is_categorical is deprecated and will be removed in a future version.  Use is_categorical_dtype instead\n",
            "  elif pd.api.types.is_categorical(cols):\n"
          ],
          "name": "stderr"
        }
      ]
    },
    {
      "cell_type": "code",
      "metadata": {
        "colab": {
          "base_uri": "https://localhost:8080/"
        },
        "id": "rjAfFOzS-ouS",
        "outputId": "0ca99286-cf0f-4af6-96f7-8b31e717e196"
      },
      "source": [
        "#Evaluate the tuned second model\r\n",
        "second_model_tuned_train_score = model2_2.score(X_train, y_train)\r\n",
        "print('Second Model Tuned Training Accuracy:', second_model_tuned_train_score)\r\n",
        "print('Did the model improve on the Training Accuracy?')\r\n",
        "if (second_model_tuned_train_score - second_model_train_score)>0: \r\n",
        "  print('Yes it did, by', second_model_tuned_train_score - second_model_train_score) \r\n",
        "else: print('No it did worse by', second_model_tuned_train_score - second_model_train_score)\r\n",
        "\r\n",
        "print(\" \")\r\n",
        "print('Did the tuned second model do better than the baseline on the training dataset?')\r\n",
        "second_tuned_model_baseline_training_set = second_model_tuned_train_score - baseline\r\n",
        "if (second_tuned_model_baseline_training_set)>0:\r\n",
        "  print('Yes it did, by',second_tuned_model_baseline_training_set)\r\n",
        "else:\r\n",
        "  print('No it did worse by',second_tuned_model_baseline_training_set)\r\n",
        "\r\n",
        "print(\" \")\r\n",
        "second_model_tuned_val_score = model2_2.score(X_val, y_val)\r\n",
        "print('Second Model Tuned Validation Accuracy:', first_model_tuned_val_score)\r\n",
        "print('Did the model improve on the Validation Accuracy?')\r\n",
        "if (second_model_tuned_val_score - second_model_val_score)>0: \r\n",
        "  print('Yes it did, by', second_model_tuned_val_score - second_model_val_score) \r\n",
        "else: print('No it did worse by', second_model_tuned_val_score - second_model_val_score)\r\n",
        "\r\n",
        "print(\" \")\r\n",
        "second_tuned_model_baseline_validation_set = second_model_tuned_val_score - baseline\r\n",
        "print('Did the tuned second model do better than the baseline on the validation dataset?')\r\n",
        "if (second_tuned_model_baseline_validation_set)>0:\r\n",
        "  print('Yes it did, by',second_tuned_model_baseline_validation_set)\r\n",
        "else:\r\n",
        "  print('No it did worse by',second_tuned_model_baseline_validation_set)"
      ],
      "execution_count": 154,
      "outputs": [
        {
          "output_type": "stream",
          "text": [
            "Second Model Tuned Training Accuracy: 0.760853578639141\n",
            "Did the model improve on the Training Accuracy?\n",
            "No it did worse by -0.1582810766001257\n",
            " \n",
            "Did the tuned second model do better than the baseline on the training dataset?\n",
            "Yes it did, by 0.009118744233931886\n",
            " \n",
            "Second Model Tuned Validation Accuracy: 0.7404796480888801\n",
            "Did the model improve on the Validation Accuracy?\n",
            "Yes it did, by 0.053350628110592546\n",
            " \n",
            "Did the tuned second model do better than the baseline on the validation dataset?\n",
            "No it did worse by -0.010324652105097809\n"
          ],
          "name": "stdout"
        }
      ]
    },
    {
      "cell_type": "code",
      "metadata": {
        "colab": {
          "base_uri": "https://localhost:8080/",
          "height": 114
        },
        "id": "Ag0Gk7_FE4VO",
        "outputId": "52fa7282-1ade-4899-f645-7f1ab6242bf3"
      },
      "source": [
        "#Evaluate the model to see if the first iteration was better than the second or vise-versa\r\n",
        "evaluate2 = {\r\n",
        "    'Model Name': ['Model 2'],\r\n",
        "    'Train 1': [second_model_train_score],\r\n",
        "    'Train 2': [second_model_tuned_train_score],\r\n",
        "    'Val 1': [second_model_val_score],\r\n",
        "    'Val 2': [second_model_tuned_val_score]\r\n",
        "}\r\n",
        "\r\n",
        "evaluate2 = pd.DataFrame.from_dict(evaluate2)\r\n",
        "\r\n",
        "evaluate2['Train Score'] = evaluate2['Train 2'] - evaluate2['Train 1']\r\n",
        "evaluate2['Val Score'] = evaluate2['Val 2'] - evaluate2['Val 1']\r\n",
        "\r\n",
        "print('Of the second model and the second tuned model, which improved the most on the baseline?')\r\n",
        "if ((evaluate2['Train Score']>0).any() | (evaluate2['Val Score']>0).any()):\r\n",
        "  evaluate2['Best Model'] = 'model2_2'\r\n",
        "  print('The second model is better AFTER being tuned')\r\n",
        "  second_model = model2_2\r\n",
        "#elif ((evaluate2['Val Score']>0).any() | (evaluate2['Train Score']<0).any()):\r\n",
        "#  evaluate2['Best Model'] = 'model2_2'\r\n",
        "#  print('The second model is better AFTER being tuned')\r\n",
        "#  second_model = model2_2\r\n",
        "else: \r\n",
        "  evaluate2['Best Model'] = 'model2_1'\r\n",
        "  second_model = model2_1\r\n",
        "  print('The second model is better BEFORE being tuned')\r\n",
        "\r\n",
        "evaluate2.head()"
      ],
      "execution_count": 155,
      "outputs": [
        {
          "output_type": "stream",
          "text": [
            "Of the second model and the second tuned model, which improved the most on the baseline?\n",
            "The second model is better AFTER being tuned\n"
          ],
          "name": "stdout"
        },
        {
          "output_type": "execute_result",
          "data": {
            "text/html": [
              "<div>\n",
              "<style scoped>\n",
              "    .dataframe tbody tr th:only-of-type {\n",
              "        vertical-align: middle;\n",
              "    }\n",
              "\n",
              "    .dataframe tbody tr th {\n",
              "        vertical-align: top;\n",
              "    }\n",
              "\n",
              "    .dataframe thead th {\n",
              "        text-align: right;\n",
              "    }\n",
              "</style>\n",
              "<table border=\"1\" class=\"dataframe\">\n",
              "  <thead>\n",
              "    <tr style=\"text-align: right;\">\n",
              "      <th></th>\n",
              "      <th>Model Name</th>\n",
              "      <th>Train 1</th>\n",
              "      <th>Train 2</th>\n",
              "      <th>Val 1</th>\n",
              "      <th>Val 2</th>\n",
              "      <th>Train Score</th>\n",
              "      <th>Val Score</th>\n",
              "      <th>Best Model</th>\n",
              "    </tr>\n",
              "  </thead>\n",
              "  <tbody>\n",
              "    <tr>\n",
              "      <th>0</th>\n",
              "      <td>Model 2</td>\n",
              "      <td>0.919135</td>\n",
              "      <td>0.760854</td>\n",
              "      <td>0.68806</td>\n",
              "      <td>0.74141</td>\n",
              "      <td>-0.158281</td>\n",
              "      <td>0.053351</td>\n",
              "      <td>model2_2</td>\n",
              "    </tr>\n",
              "  </tbody>\n",
              "</table>\n",
              "</div>"
            ],
            "text/plain": [
              "  Model Name   Train 1   Train 2  ...  Train Score  Val Score  Best Model\n",
              "0    Model 2  0.919135  0.760854  ...    -0.158281   0.053351    model2_2\n",
              "\n",
              "[1 rows x 8 columns]"
            ]
          },
          "metadata": {
            "tags": []
          },
          "execution_count": 155
        }
      ]
    },
    {
      "cell_type": "code",
      "metadata": {
        "id": "BBai2uZfe93h",
        "colab": {
          "base_uri": "https://localhost:8080/",
          "height": 279
        },
        "outputId": "0cc728c5-41e5-4158-a510-b22aa51904c1"
      },
      "source": [
        "#Plot the Confusion Matrix for the second model\r\n",
        "plot_confusion_matrix(second_model,\r\n",
        "                      X_val, # <-- use validation data\r\n",
        "                      y_val,\r\n",
        "                      values_format='.0f',\r\n",
        "                      display_labels=['Failed Treatment','Live Birth']);"
      ],
      "execution_count": 156,
      "outputs": [
        {
          "output_type": "display_data",
          "data": {
            "image/png": "[encoded data removed]",
            "text/plain": [
              "<Figure size 432x288 with 2 Axes>"
            ]
          },
          "metadata": {
            "tags": [],
            "needs_background": "light"
          }
        }
      ]
    },
    {
      "cell_type": "code",
      "metadata": {
        "id": "rzuXmhe8j5xd"
      },
      "source": [
        "TruePositive2 = 922 #Predicted live birth, actual live birth\r\n",
        "TrueNegative2 = 51664 #Predicted failed treatment, actual failed treatment\r\n",
        "FalsePositive2 = 1114 #Predicted live birth, but was a failed treatment\r\n",
        "FalseNegative2 = 17227  #Predicted failed treatment, but resulted in a live birth"
      ],
      "execution_count": 157,
      "outputs": []
    },
    {
      "cell_type": "code",
      "metadata": {
        "id": "O08xZS9Fevvy",
        "colab": {
          "base_uri": "https://localhost:8080/",
          "height": 295
        },
        "outputId": "f491500b-dd05-42cb-a6c7-48279638a97d"
      },
      "source": [
        "#Plot the ROC curve or Precision Recall Curve\r\n",
        "y_pred_proba = second_model.predict_proba(X_val)[:,-1]\r\n",
        "\r\n",
        "fpr, tpr, thresholds = roc_curve(y_val, y_pred_proba)\r\n",
        "\r\n",
        "# See the results in a table\r\n",
        "pd.DataFrame({\r\n",
        "    'False Positive Rate': fpr, \r\n",
        "    'True Positive Rate': tpr, \r\n",
        "    'Threshold': thresholds\r\n",
        "})\r\n",
        "plt.plot(fpr, tpr, color='blue')\r\n",
        "plt.plot((0,1), (0,1), color='red')\r\n",
        "plt.title('ROC curve')\r\n",
        "plt.xlabel('False Positive Rate')\r\n",
        "plt.ylabel('True Positive Rate');"
      ],
      "execution_count": 158,
      "outputs": [
        {
          "output_type": "display_data",
          "data": {
            "image/png": "[encoded data removed]",
            "text/plain": [
              "<Figure size 432x288 with 1 Axes>"
            ]
          },
          "metadata": {
            "tags": [],
            "needs_background": "light"
          }
        }
      ]
    },
    {
      "cell_type": "markdown",
      "metadata": {
        "id": "ItbZJ05OdWUy"
      },
      "source": [
        "## Third Model"
      ]
    },
    {
      "cell_type": "code",
      "metadata": {
        "id": "nnmQh9CudQ81"
      },
      "source": [
        "#Third Model\r\n",
        "#Tree-Based Model (Random Forest)\r\n",
        "model3_1 = make_pipeline(\r\n",
        "    OrdinalEncoder(),\r\n",
        "    SimpleImputer(),\r\n",
        "    RandomForestClassifier(n_estimators=50,\r\n",
        "                           n_jobs=-1,\r\n",
        "                           random_state=42)\r\n",
        ")\r\n",
        "\r\n",
        "model3_1.fit(X_train, y_train);"
      ],
      "execution_count": 159,
      "outputs": []
    },
    {
      "cell_type": "code",
      "metadata": {
        "id": "ox5c5NC_dv5v",
        "colab": {
          "base_uri": "https://localhost:8080/"
        },
        "outputId": "081ef9c7-d18a-434f-c535-3b289a4db997"
      },
      "source": [
        "#Evaluate the third model\r\n",
        "third_model_train_score = model3_1.score(X_train, y_train)\r\n",
        "third_model_baseline_training_set = third_model_train_score - baseline\r\n",
        "print('Training Accuracy:',third_model_train_score)\r\n",
        "print('Did the third model do better than the baseline on the training dataset?')\r\n",
        "if (third_model_baseline_training_set)>0:\r\n",
        "  print('Yes it did, by',third_model_baseline_training_set)\r\n",
        "else:\r\n",
        "  print('No it did worse by',third_model_baseline_training_set)\r\n",
        "\r\n",
        "print(\" \")\r\n",
        "third_model_val_score = model3_1.score(X_val, y_val)\r\n",
        "third_model_baseline_validation_set = third_model_val_score - baseline\r\n",
        "print('Validation Accuracy:',third_model_val_score)\r\n",
        "print('Did the third model do better than the baseline on the validation dataset?')\r\n",
        "if (third_model_baseline_validation_set)>0:\r\n",
        "  print('Yes it did, by',third_model_baseline_validation_set)\r\n",
        "else:\r\n",
        "  print('No it did worse by',third_model_baseline_validation_set)"
      ],
      "execution_count": 160,
      "outputs": [
        {
          "output_type": "stream",
          "text": [
            "Training Accuracy: 0.9189073551630543\n",
            "Did the third model do better than the baseline on the training dataset?\n",
            "Yes it did, by 0.16717252075784517\n",
            " \n",
            "Validation Accuracy: 0.71666643168328\n",
            "Did the third model do better than the baseline on the validation dataset?\n",
            "No it did worse by -0.035068402721929126\n"
          ],
          "name": "stdout"
        }
      ]
    },
    {
      "cell_type": "code",
      "metadata": {
        "id": "EMtrHszTdjqG"
      },
      "source": [
        "#Tune the third model\r\n",
        "model3_2 = make_pipeline(\r\n",
        "    OrdinalEncoder(),\r\n",
        "    SimpleImputer(),\r\n",
        "    RandomForestClassifier(n_estimators=100,\r\n",
        "                           n_jobs=-1,\r\n",
        "                           random_state=42)\r\n",
        ")\r\n",
        "\r\n",
        "model3_2.fit(X_train, y_train);"
      ],
      "execution_count": 161,
      "outputs": []
    },
    {
      "cell_type": "code",
      "metadata": {
        "id": "bha3n9u_dwP-",
        "colab": {
          "base_uri": "https://localhost:8080/"
        },
        "outputId": "1ebaf442-ba88-4384-c9a4-d4f00e62b3d6"
      },
      "source": [
        "#Evaluate the tuned third model\r\n",
        "third_model_tuned_train_score = model3_2.score(X_train, y_train)\r\n",
        "print('Training Accuracy:',third_model_tuned_train_score)\r\n",
        "print('Did the model improve on the Training Accuracy?')\r\n",
        "if (third_model_tuned_train_score - third_model_train_score)>0: \r\n",
        "  print('Yes it did, by', third_model_tuned_train_score - third_model_train_score) \r\n",
        "else: print('No it did worse by', third_model_tuned_train_score - third_model_train_score)\r\n",
        "\r\n",
        "print(\" \")\r\n",
        "third_tuned_model_baseline_training_set = third_model_tuned_train_score - baseline\r\n",
        "print('Did the tuned third model do better than the baseline on the training dataset?')\r\n",
        "if (third_tuned_model_baseline_training_set)>0:\r\n",
        "  print('Yes it did, by',third_tuned_model_baseline_training_set)\r\n",
        "else:\r\n",
        "  print('No it did worse by',third_tuned_model_baseline_training_set)\r\n",
        "\r\n",
        "print(\" \")\r\n",
        "third_model_tuned_val_score = model3_2.score(X_val, y_val)\r\n",
        "print('Validation Accuracy:',third_model_tuned_val_score)\r\n",
        "print('Did the model improve on the Validation Accuracy?')\r\n",
        "if (third_model_tuned_val_score - third_model_val_score)>0: \r\n",
        "  print('Yes it did, by', third_model_tuned_val_score - third_model_val_score) \r\n",
        "else: print('No it did worse by', third_model_tuned_val_score - third_model_val_score)\r\n",
        "\r\n",
        "print(\" \")\r\n",
        "third_tuned_model_baseline_validation_set = third_model_tuned_val_score - baseline\r\n",
        "print('Did the tuned third model do better than the baseline on the validation dataset?')\r\n",
        "if (third_tuned_model_baseline_validation_set)>0:\r\n",
        "  print('Yes it did, by',third_tuned_model_baseline_validation_set)\r\n",
        "else:\r\n",
        "  print('No it did worse by',third_tuned_model_baseline_validation_set)"
      ],
      "execution_count": 162,
      "outputs": [
        {
          "output_type": "stream",
          "text": [
            "Training Accuracy: 0.9191212846465484\n",
            "Did the model improve on the Training Accuracy?\n",
            "Yes it did, by 0.0002139294834940797\n",
            " \n",
            "Did the tuned third model do better than the baseline on the training dataset?\n",
            "Yes it did, by 0.16738645024133925\n",
            " \n",
            "Validation Accuracy: 0.7180622330001268\n",
            "Did the model improve on the Validation Accuracy?\n",
            "Yes it did, by 0.0013958013168468009\n",
            " \n",
            "Did the tuned third model do better than the baseline on the validation dataset?\n",
            "No it did worse by -0.033672601405082325\n"
          ],
          "name": "stdout"
        }
      ]
    },
    {
      "cell_type": "code",
      "metadata": {
        "colab": {
          "base_uri": "https://localhost:8080/",
          "height": 114
        },
        "id": "uDLLrJgrE_C5",
        "outputId": "0727e813-d2fe-4143-b891-18327ba86222"
      },
      "source": [
        "#Evaluate the model to see if the first iteration was better than the second or vise-versa\r\n",
        "evaluate3 = {\r\n",
        "    'Model Name': ['Model 3'],\r\n",
        "    'Train 1': [third_model_train_score],\r\n",
        "    'Train 2': [third_model_tuned_train_score],\r\n",
        "    'Val 1': [third_model_val_score],\r\n",
        "    'Val 2': [third_model_tuned_val_score]\r\n",
        "}\r\n",
        "\r\n",
        "evaluate3 = pd.DataFrame.from_dict(evaluate3)\r\n",
        "\r\n",
        "evaluate3['Train Score'] = evaluate3['Train 2'] - evaluate3['Train 1']\r\n",
        "evaluate3['Val Score'] = evaluate3['Val 2'] - evaluate3['Val 1']\r\n",
        "\r\n",
        "print('Of the third model and the third tuned model, which improved the most on the baseline?')\r\n",
        "if ((evaluate3['Train Score']>0).any() | (evaluate3['Val Score']>0).any()):\r\n",
        "  evaluate3['Best Model'] = 'model3_2'\r\n",
        "  print('The third model is better AFTER being tuned')\r\n",
        "  third_model = model3_2\r\n",
        "#elif ((evaluate3['Val Score']>0).any() | (evaluate3['Train Score']<0).any()):\r\n",
        "#  evaluate3['Best Model'] = 'model3_2'\r\n",
        "#  print('The third model is better AFTER being tuned')\r\n",
        "#  third_model = model3_2\r\n",
        "else: \r\n",
        "  evaluate3['Best Model'] = 'model3_1'\r\n",
        "  third_model = model3_1\r\n",
        "  print('The third model is better BEFORE being tuned')\r\n",
        "\r\n",
        "evaluate3.head()"
      ],
      "execution_count": 163,
      "outputs": [
        {
          "output_type": "stream",
          "text": [
            "Of the third model and the third tuned model, which improved the most on the baseline?\n",
            "The third model is better AFTER being tuned\n"
          ],
          "name": "stdout"
        },
        {
          "output_type": "execute_result",
          "data": {
            "text/html": [
              "<div>\n",
              "<style scoped>\n",
              "    .dataframe tbody tr th:only-of-type {\n",
              "        vertical-align: middle;\n",
              "    }\n",
              "\n",
              "    .dataframe tbody tr th {\n",
              "        vertical-align: top;\n",
              "    }\n",
              "\n",
              "    .dataframe thead th {\n",
              "        text-align: right;\n",
              "    }\n",
              "</style>\n",
              "<table border=\"1\" class=\"dataframe\">\n",
              "  <thead>\n",
              "    <tr style=\"text-align: right;\">\n",
              "      <th></th>\n",
              "      <th>Model Name</th>\n",
              "      <th>Train 1</th>\n",
              "      <th>Train 2</th>\n",
              "      <th>Val 1</th>\n",
              "      <th>Val 2</th>\n",
              "      <th>Train Score</th>\n",
              "      <th>Val Score</th>\n",
              "      <th>Best Model</th>\n",
              "    </tr>\n",
              "  </thead>\n",
              "  <tbody>\n",
              "    <tr>\n",
              "      <th>0</th>\n",
              "      <td>Model 3</td>\n",
              "      <td>0.918907</td>\n",
              "      <td>0.919121</td>\n",
              "      <td>0.716666</td>\n",
              "      <td>0.718062</td>\n",
              "      <td>0.000214</td>\n",
              "      <td>0.001396</td>\n",
              "      <td>model3_2</td>\n",
              "    </tr>\n",
              "  </tbody>\n",
              "</table>\n",
              "</div>"
            ],
            "text/plain": [
              "  Model Name   Train 1   Train 2  ...  Train Score  Val Score  Best Model\n",
              "0    Model 3  0.918907  0.919121  ...     0.000214   0.001396    model3_2\n",
              "\n",
              "[1 rows x 8 columns]"
            ]
          },
          "metadata": {
            "tags": []
          },
          "execution_count": 163
        }
      ]
    },
    {
      "cell_type": "code",
      "metadata": {
        "id": "3c44dBTnfFC_",
        "colab": {
          "base_uri": "https://localhost:8080/",
          "height": 279
        },
        "outputId": "d2479e29-335e-483c-fd22-a2c22e609bb7"
      },
      "source": [
        "#Plot the Confusion Matrix for the third model\r\n",
        "plot_confusion_matrix(third_model,\r\n",
        "                      X_val, # <-- use validation data\r\n",
        "                      y_val,\r\n",
        "                      values_format='.0f',\r\n",
        "                      display_labels=['Failed Treatment','Live Birth']);"
      ],
      "execution_count": 164,
      "outputs": [
        {
          "output_type": "display_data",
          "data": {
            "image/png": "[encoded data removed]",
            "text/plain": [
              "<Figure size 432x288 with 2 Axes>"
            ]
          },
          "metadata": {
            "tags": [],
            "needs_background": "light"
          }
        }
      ]
    },
    {
      "cell_type": "code",
      "metadata": {
        "id": "faG24RvOj7Fr"
      },
      "source": [
        "TruePositive3 = 3975 #Predicted live birth, actual live birth\r\n",
        "TrueNegative3 = 46955 #Predicted failed treatment, actual failed treatment\r\n",
        "FalsePositive3 = 5823 #Predicted live birth, but was a failed treatment\r\n",
        "FalseNegative3 = 14174 #Predicted failed treatment, but resulted in a live birth"
      ],
      "execution_count": 165,
      "outputs": []
    },
    {
      "cell_type": "code",
      "metadata": {
        "id": "KuVecNCgexvm",
        "colab": {
          "base_uri": "https://localhost:8080/",
          "height": 295
        },
        "outputId": "0b5fa01b-bd55-4620-fdac-2cf9867d9a31"
      },
      "source": [
        "#Plot the ROC curve or Precision Recall Curve for the third model\r\n",
        "y_pred_proba = third_model.predict_proba(X_val)[:,-1]\r\n",
        "\r\n",
        "fpr, tpr, thresholds = roc_curve(y_val, y_pred_proba)\r\n",
        "\r\n",
        "# See the results in a table\r\n",
        "pd.DataFrame({\r\n",
        "    'False Positive Rate': fpr, \r\n",
        "    'True Positive Rate': tpr, \r\n",
        "    'Threshold': thresholds\r\n",
        "})\r\n",
        "plt.plot(fpr, tpr, color='blue')\r\n",
        "plt.plot((0,1), (0,1), color='red')\r\n",
        "plt.title('ROC curve')\r\n",
        "plt.xlabel('False Positive Rate')\r\n",
        "plt.ylabel('True Positive Rate');"
      ],
      "execution_count": 166,
      "outputs": [
        {
          "output_type": "display_data",
          "data": {
            "image/png": "[encoded data removed]",
            "text/plain": [
              "<Figure size 432x288 with 1 Axes>"
            ]
          },
          "metadata": {
            "tags": [],
            "needs_background": "light"
          }
        }
      ]
    },
    {
      "cell_type": "code",
      "metadata": {
        "id": "xh5JVTYGlLn-",
        "colab": {
          "base_uri": "https://localhost:8080/",
          "height": 607
        },
        "outputId": "64a657f9-5c6e-4cab-fc10-517417bfba21"
      },
      "source": [
        "#Find important features \r\n",
        "# Get feature importances\r\n",
        "rf = third_model.named_steps['randomforestclassifier']\r\n",
        "importances = pd.Series(rf.feature_importances_, X_train.columns)\r\n",
        "\r\n",
        "# Plot feature importances\r\n",
        "%matplotlib inline\r\n",
        "import matplotlib.pyplot as plt\r\n",
        "\r\n",
        "n = 20\r\n",
        "plt.figure(figsize=(10,n/2))\r\n",
        "plt.title(f'Top {n} features')\r\n",
        "importances.sort_values()[-n:].plot.barh(color='grey');"
      ],
      "execution_count": 167,
      "outputs": [
        {
          "output_type": "display_data",
          "data": {
            "image/png": "[encoded data removed]",
            "text/plain": [
              "<Figure size 720x720 with 1 Axes>"
            ]
          },
          "metadata": {
            "tags": [],
            "needs_background": "light"
          }
        }
      ]
    },
    {
      "cell_type": "markdown",
      "metadata": {
        "id": "zrnfMwqplnEq"
      },
      "source": [
        "## Fourth Model"
      ]
    },
    {
      "cell_type": "code",
      "metadata": {
        "id": "2AWn2KMbltOn"
      },
      "source": [
        "#Fourth Model\r\n",
        "#Build model using Permutation Importance\r\n",
        "transformers = make_pipeline(\r\n",
        "    ce.OrdinalEncoder(), \r\n",
        "    SimpleImputer(strategy='median')\r\n",
        ")\r\n",
        "\r\n",
        "X_train_transformed = transformers.fit_transform(X_train)\r\n",
        "X_val_transformed = transformers.transform(X_val)\r\n",
        "\r\n",
        "model = RandomForestClassifier(n_estimators=100, random_state=42, n_jobs=-1)\r\n",
        "model.fit(X_train_transformed, y_train)"
      ],
      "execution_count": null,
      "outputs": []
    },
    {
      "cell_type": "code",
      "metadata": {
        "colab": {
          "base_uri": "https://localhost:8080/"
        },
        "id": "hWAWYnunoZIL",
        "outputId": "0565f630-f8fd-44eb-f23c-4aaf271dfc9a"
      },
      "source": [
        "model4_1 = PermutationImportance(\r\n",
        "    model, \r\n",
        "    scoring='accuracy', \r\n",
        "    n_iter=5, \r\n",
        "    random_state=42\r\n",
        ")\r\n",
        "\r\n",
        "model4_1.fit(X_val_transformed, y_val)"
      ],
      "execution_count": 169,
      "outputs": [
        {
          "output_type": "execute_result",
          "data": {
            "text/plain": [
              "PermutationImportance(cv='prefit',\n",
              "                      estimator=RandomForestClassifier(bootstrap=True,\n",
              "                                                       ccp_alpha=0.0,\n",
              "                                                       class_weight=None,\n",
              "                                                       criterion='gini',\n",
              "                                                       max_depth=None,\n",
              "                                                       max_features='auto',\n",
              "                                                       max_leaf_nodes=None,\n",
              "                                                       max_samples=None,\n",
              "                                                       min_impurity_decrease=0.0,\n",
              "                                                       min_impurity_split=None,\n",
              "                                                       min_samples_leaf=1,\n",
              "                                                       min_samples_split=2,\n",
              "                                                       min_weight_fraction_leaf=0.0,\n",
              "                                                       n_estimators=100,\n",
              "                                                       n_jobs=-1,\n",
              "                                                       oob_score=False,\n",
              "                                                       random_state=42,\n",
              "                                                       verbose=0,\n",
              "                                                       warm_start=False),\n",
              "                      n_iter=5, random_state=42, refit=True,\n",
              "                      scoring='accuracy')"
            ]
          },
          "metadata": {
            "tags": []
          },
          "execution_count": 169
        }
      ]
    },
    {
      "cell_type": "code",
      "metadata": {
        "id": "bapGKgqngWAf",
        "colab": {
          "base_uri": "https://localhost:8080/"
        },
        "outputId": "6ee366b3-2bd0-4f9c-bce3-2adead9e4b3c"
      },
      "source": [
        "#Evaluate the fourth model\r\n",
        "fourth_model_train_score = model4_1.score(X_train, y_train)\r\n",
        "fourth_model_baseline_training_set = fourth_model_train_score - baseline\r\n",
        "print('Training Accuracy:',fourth_model_train_score)\r\n",
        "print('Did the fourth model do better than the baseline on the training dataset?')\r\n",
        "if (fourth_model_baseline_training_set)>0:\r\n",
        "  print('Yes it did, by',fourth_model_baseline_training_set)\r\n",
        "else:\r\n",
        "  print('No it did worse by',fourth_model_baseline_training_set)\r\n",
        "\r\n",
        "print(\" \")\r\n",
        "fourth_model_val_score = model4_1.score(X_val, y_val)\r\n",
        "fourth_model_baseline_validation_set = fourth_model_val_score - baseline\r\n",
        "print('Validation Accuracy:',fourth_model_val_score)\r\n",
        "print('Did the fourth model do better than the baseline on the validation dataset?')\r\n",
        "if (fourth_model_baseline_validation_set)>0:\r\n",
        "  print('Yes it did, by',fourth_model_baseline_validation_set)\r\n",
        "else:\r\n",
        "  print('No it did worse by',fourth_model_baseline_validation_set)"
      ],
      "execution_count": 170,
      "outputs": [
        {
          "output_type": "stream",
          "text": [
            "Training Accuracy: 0.9191212846465484\n",
            "Did the fourth model do better than the baseline on the training dataset?\n",
            "Yes it did, by 0.16738645024133925\n",
            " \n",
            "Validation Accuracy: 0.7180622330001268\n",
            "Did the fourth model do better than the baseline on the validation dataset?\n",
            "No it did worse by -0.033672601405082325\n"
          ],
          "name": "stdout"
        }
      ]
    },
    {
      "cell_type": "code",
      "metadata": {
        "id": "SwqfnPMDpGqz"
      },
      "source": [
        "#Tune the fourth model\r\n",
        "transformers = make_pipeline(\r\n",
        "    ce.OrdinalEncoder(), \r\n",
        "    SimpleImputer(strategy='median')\r\n",
        ")\r\n",
        "\r\n",
        "X_train_transformed = transformers.fit_transform(X_train)\r\n",
        "X_val_transformed = transformers.transform(X_val)\r\n",
        "\r\n",
        "model = RandomForestClassifier(n_estimators=200, random_state=55, n_jobs=-1)\r\n",
        "model.fit(X_train_transformed, y_train)"
      ],
      "execution_count": null,
      "outputs": []
    },
    {
      "cell_type": "code",
      "metadata": {
        "id": "e4syh77NpncG",
        "colab": {
          "base_uri": "https://localhost:8080/"
        },
        "outputId": "a5f27652-bd9c-4d6a-d3be-fc30179c86e5"
      },
      "source": [
        "model4_2 = PermutationImportance(\r\n",
        "    model, \r\n",
        "    scoring='accuracy', \r\n",
        "    n_iter=3, \r\n",
        "    random_state=55\r\n",
        ")\r\n",
        "\r\n",
        "model4_2.fit(X_val_transformed, y_val)"
      ],
      "execution_count": 172,
      "outputs": [
        {
          "output_type": "execute_result",
          "data": {
            "text/plain": [
              "PermutationImportance(cv='prefit',\n",
              "                      estimator=RandomForestClassifier(bootstrap=True,\n",
              "                                                       ccp_alpha=0.0,\n",
              "                                                       class_weight=None,\n",
              "                                                       criterion='gini',\n",
              "                                                       max_depth=None,\n",
              "                                                       max_features='auto',\n",
              "                                                       max_leaf_nodes=None,\n",
              "                                                       max_samples=None,\n",
              "                                                       min_impurity_decrease=0.0,\n",
              "                                                       min_impurity_split=None,\n",
              "                                                       min_samples_leaf=1,\n",
              "                                                       min_samples_split=2,\n",
              "                                                       min_weight_fraction_leaf=0.0,\n",
              "                                                       n_estimators=200,\n",
              "                                                       n_jobs=-1,\n",
              "                                                       oob_score=False,\n",
              "                                                       random_state=55,\n",
              "                                                       verbose=0,\n",
              "                                                       warm_start=False),\n",
              "                      n_iter=3, random_state=55, refit=True,\n",
              "                      scoring='accuracy')"
            ]
          },
          "metadata": {
            "tags": []
          },
          "execution_count": 172
        }
      ]
    },
    {
      "cell_type": "code",
      "metadata": {
        "id": "uf-fXm8Lgn5R",
        "colab": {
          "base_uri": "https://localhost:8080/"
        },
        "outputId": "61479658-98e1-4ba0-91b0-66aac94d7452"
      },
      "source": [
        "#Evaluate the tuned fourth model\r\n",
        "fourth_model_tuned_train_score = model4_2.score(X_train, y_train)\r\n",
        "print('Training Accuracy:',fourth_model_tuned_train_score)\r\n",
        "print('Did the model improve on the Training Accuracy?')\r\n",
        "if (fourth_model_tuned_train_score - fourth_model_train_score)>0: \r\n",
        "  print('Yes it did, by', fourth_model_tuned_train_score - fourth_model_train_score) \r\n",
        "else: print('No it did worse by', fourth_model_tuned_train_score - fourth_model_train_score)\r\n",
        "\r\n",
        "print(\" \")\r\n",
        "fourth_tuned_model_baseline_training_set = fourth_model_tuned_train_score - baseline\r\n",
        "print('Did the tuned fourth model do better than the baseline on the training dataset?')\r\n",
        "if (fourth_tuned_model_baseline_training_set)>0:\r\n",
        "  print('Yes it did, by',fourth_tuned_model_baseline_training_set)\r\n",
        "else:\r\n",
        "  print('No it did worse by',fourth_tuned_model_baseline_training_set)\r\n",
        "\r\n",
        "print(\" \")\r\n",
        "fourth_model_tuned_val_score = model4_2.score(X_val, y_val)\r\n",
        "print('Validation Accuracy:',fourth_model_tuned_val_score)\r\n",
        "print('Did the model improve on the Validation Accuracy?')\r\n",
        "if (fourth_model_tuned_val_score - fourth_model_val_score)>0: \r\n",
        "  print('Yes it did, by', fourth_model_tuned_val_score - fourth_model_val_score) \r\n",
        "else: print('No it did worse by', fourth_model_tuned_val_score - fourth_model_val_score)\r\n",
        "\r\n",
        "print(\" \")\r\n",
        "fourth_tuned_model_baseline_validation_set = fourth_model_tuned_val_score - baseline\r\n",
        "print('Did the tuned fourth model do better than the baseline on the validation dataset?')\r\n",
        "if (fourth_tuned_model_baseline_validation_set)>0:\r\n",
        "  print('Yes it did, by',fourth_tuned_model_baseline_validation_set)\r\n",
        "else:\r\n",
        "  print('No it did worse by',fourth_tuned_model_baseline_validation_set)"
      ],
      "execution_count": 173,
      "outputs": [
        {
          "output_type": "stream",
          "text": [
            "Training Accuracy: 0.9191346552392667\n",
            "Did the model improve on the Training Accuracy?\n",
            "Yes it did, by 1.3370592718331409e-05\n",
            " \n",
            "Did the tuned fourth model do better than the baseline on the training dataset?\n",
            "Yes it did, by 0.16739982083405758\n",
            " \n",
            "Validation Accuracy: 0.7198528064065871\n",
            "Did the model improve on the Validation Accuracy?\n",
            "Yes it did, by 0.0017905734064602719\n",
            " \n",
            "Did the tuned fourth model do better than the baseline on the validation dataset?\n",
            "No it did worse by -0.03188202799862205\n"
          ],
          "name": "stdout"
        }
      ]
    },
    {
      "cell_type": "code",
      "metadata": {
        "colab": {
          "base_uri": "https://localhost:8080/",
          "height": 114
        },
        "id": "mivX3I4yFH2U",
        "outputId": "1653b702-9394-446e-e751-7274ab076f26"
      },
      "source": [
        "#Evaluate the model to see if the first iteration was better than the second or vise-versa\r\n",
        "evaluate4 = {\r\n",
        "    'Model Name': ['Model 4'],\r\n",
        "    'Train 1': [fourth_model_train_score],\r\n",
        "    'Train 2': [fourth_model_tuned_train_score],\r\n",
        "    'Val 1': [fourth_model_val_score],\r\n",
        "    'Val 2': [fourth_model_tuned_val_score]\r\n",
        "}\r\n",
        "\r\n",
        "evaluate4 = pd.DataFrame.from_dict(evaluate4)\r\n",
        "\r\n",
        "evaluate4['Train Score'] = evaluate4['Train 2'] - evaluate4['Train 1']\r\n",
        "evaluate4['Val Score'] = evaluate4['Val 2'] - evaluate4['Val 1']\r\n",
        "\r\n",
        "print('Of the fourth model and the fourth tuned model, which improved the most on the baseline?')\r\n",
        "if ((evaluate4['Train Score']>0).any() | (evaluate4['Val Score']>0).any()):\r\n",
        "  evaluate4['Best Model'] = 'model4_2'\r\n",
        "  print('The fourth model is better AFTER being tuned')\r\n",
        "  fourth_model = model4_2\r\n",
        "#elif ((evaluate4['Val Score']>0).any() | (evaluate5['Train Score']<0).any()):\r\n",
        "#  evaluate4['Best Model'] = 'model4_2'\r\n",
        "#  print('The fourth model is better AFTER being tuned')\r\n",
        "#  fourth_model = model4_2\r\n",
        "else: \r\n",
        "  evaluate4['Best Model'] = 'model4_1'\r\n",
        "  fourth_model = model4_1\r\n",
        "  print('The fourth model is better BEFORE being tuned')\r\n",
        "\r\n",
        "evaluate4.head()"
      ],
      "execution_count": 174,
      "outputs": [
        {
          "output_type": "stream",
          "text": [
            "Of the fourth model and the fourth tuned model, which improved the most on the baseline?\n",
            "The fourth model is better AFTER being tuned\n"
          ],
          "name": "stdout"
        },
        {
          "output_type": "execute_result",
          "data": {
            "text/html": [
              "<div>\n",
              "<style scoped>\n",
              "    .dataframe tbody tr th:only-of-type {\n",
              "        vertical-align: middle;\n",
              "    }\n",
              "\n",
              "    .dataframe tbody tr th {\n",
              "        vertical-align: top;\n",
              "    }\n",
              "\n",
              "    .dataframe thead th {\n",
              "        text-align: right;\n",
              "    }\n",
              "</style>\n",
              "<table border=\"1\" class=\"dataframe\">\n",
              "  <thead>\n",
              "    <tr style=\"text-align: right;\">\n",
              "      <th></th>\n",
              "      <th>Model Name</th>\n",
              "      <th>Train 1</th>\n",
              "      <th>Train 2</th>\n",
              "      <th>Val 1</th>\n",
              "      <th>Val 2</th>\n",
              "      <th>Train Score</th>\n",
              "      <th>Val Score</th>\n",
              "      <th>Best Model</th>\n",
              "    </tr>\n",
              "  </thead>\n",
              "  <tbody>\n",
              "    <tr>\n",
              "      <th>0</th>\n",
              "      <td>Model 4</td>\n",
              "      <td>0.919121</td>\n",
              "      <td>0.919135</td>\n",
              "      <td>0.718062</td>\n",
              "      <td>0.719853</td>\n",
              "      <td>0.000013</td>\n",
              "      <td>0.001791</td>\n",
              "      <td>model4_2</td>\n",
              "    </tr>\n",
              "  </tbody>\n",
              "</table>\n",
              "</div>"
            ],
            "text/plain": [
              "  Model Name   Train 1   Train 2  ...  Train Score  Val Score  Best Model\n",
              "0    Model 4  0.919121  0.919135  ...     0.000013   0.001791    model4_2\n",
              "\n",
              "[1 rows x 8 columns]"
            ]
          },
          "metadata": {
            "tags": []
          },
          "execution_count": 174
        }
      ]
    },
    {
      "cell_type": "code",
      "metadata": {
        "id": "Ruj_kodUpZ3a",
        "colab": {
          "base_uri": "https://localhost:8080/",
          "height": 279
        },
        "outputId": "1daad795-f650-4ec0-fb13-9d76df274c43"
      },
      "source": [
        "#Plot the Confusion Matrix for the fourth model\r\n",
        "plot_confusion_matrix(fourth_model,\r\n",
        "                      X_val, # <-- use validation data\r\n",
        "                      y_val,\r\n",
        "                      values_format='.0f',\r\n",
        "                      display_labels=['Failed Treatment','Live Birth']);"
      ],
      "execution_count": 175,
      "outputs": [
        {
          "output_type": "display_data",
          "data": {
            "image/png": "[encoded data removed]",
            "text/plain": [
              "<Figure size 432x288 with 2 Axes>"
            ]
          },
          "metadata": {
            "tags": [],
            "needs_background": "light"
          }
        }
      ]
    },
    {
      "cell_type": "code",
      "metadata": {
        "id": "L5vE83d6j9Hb"
      },
      "source": [
        "TruePositive4 = 3891 #Predicted live birth, actual live birth\r\n",
        "TrueNegative4 = 47165 #Predicted failed treatment, actual failed treatment\r\n",
        "FalsePositive4 = 5613 #Predicted live birth, but was a failed treatment\r\n",
        "FalseNegative4 = 14258 #Predicted failed treatment, but resulted in a live birth"
      ],
      "execution_count": 176,
      "outputs": []
    },
    {
      "cell_type": "code",
      "metadata": {
        "id": "X8a5fbMxpdPA",
        "colab": {
          "base_uri": "https://localhost:8080/",
          "height": 295
        },
        "outputId": "43179278-7ec5-4cfc-bc53-ebcef11481a9"
      },
      "source": [
        "#Plot the ROC curve or Precision Recall Curve for the fourth model\r\n",
        "y_pred_proba = fourth_model.predict_proba(X_val)[:,-1]\r\n",
        "\r\n",
        "fpr, tpr, thresholds = roc_curve(y_val, y_pred_proba)\r\n",
        "\r\n",
        "# See the results in a table\r\n",
        "pd.DataFrame({\r\n",
        "    'False Positive Rate': fpr, \r\n",
        "    'True Positive Rate': tpr, \r\n",
        "    'Threshold': thresholds\r\n",
        "})\r\n",
        "plt.plot(fpr, tpr, color='blue')\r\n",
        "plt.plot((0,1), (0,1), color='red')\r\n",
        "plt.title('ROC curve')\r\n",
        "plt.xlabel('False Positive Rate')\r\n",
        "plt.ylabel('True Positive Rate');"
      ],
      "execution_count": 177,
      "outputs": [
        {
          "output_type": "display_data",
          "data": {
            "image/png": "[encoded data removed]",
            "text/plain": [
              "<Figure size 432x288 with 1 Axes>"
            ]
          },
          "metadata": {
            "tags": [],
            "needs_background": "light"
          }
        }
      ]
    },
    {
      "cell_type": "markdown",
      "metadata": {
        "id": "yMI8NxYWmdi4"
      },
      "source": [
        "## Fifth Model"
      ]
    },
    {
      "cell_type": "code",
      "metadata": {
        "id": "LkfW2peMmcoq",
        "colab": {
          "base_uri": "https://localhost:8080/"
        },
        "outputId": "f66ce7d3-5e48-4959-ab77-4177486dcefc"
      },
      "source": [
        "#Fifth Model\r\n",
        "#Build model using XGB\r\n",
        "model5_1 = make_pipeline(\r\n",
        "    ce.OrdinalEncoder(), \r\n",
        "    XGBClassifier(n_estimators=100, random_state=42, n_jobs=-1) \r\n",
        "\r\n",
        ")\r\n",
        "\r\n",
        "model5_1.fit(X_train, y_train)"
      ],
      "execution_count": 178,
      "outputs": [
        {
          "output_type": "execute_result",
          "data": {
            "text/plain": [
              "Pipeline(memory=None,\n",
              "         steps=[('ordinalencoder',\n",
              "                 OrdinalEncoder(cols=[], drop_invariant=False,\n",
              "                                handle_missing='value', handle_unknown='value',\n",
              "                                mapping=[], return_df=True, verbose=0)),\n",
              "                ('xgbclassifier',\n",
              "                 XGBClassifier(base_score=0.5, booster='gbtree',\n",
              "                               colsample_bylevel=1, colsample_bynode=1,\n",
              "                               colsample_bytree=1, gamma=0, learning_rate=0.1,\n",
              "                               max_delta_step=0, max_depth=3,\n",
              "                               min_child_weight=1, missing=None,\n",
              "                               n_estimators=100, n_jobs=-1, nthread=None,\n",
              "                               objective='binary:logistic', random_state=42,\n",
              "                               reg_alpha=0, reg_lambda=1, scale_pos_weight=1,\n",
              "                               seed=None, silent=None, subsample=1,\n",
              "                               verbosity=1))],\n",
              "         verbose=False)"
            ]
          },
          "metadata": {
            "tags": []
          },
          "execution_count": 178
        }
      ]
    },
    {
      "cell_type": "code",
      "metadata": {
        "id": "l2YQm7X2hf1n",
        "colab": {
          "base_uri": "https://localhost:8080/"
        },
        "outputId": "9ec36dc6-2b66-444e-dc56-3da4894c0763"
      },
      "source": [
        "#Evaluate the fifth model\r\n",
        "fifth_model_train_score = model5_1.score(X_train, y_train)\r\n",
        "fifth_model_baseline_training_set = fifth_model_train_score - baseline\r\n",
        "print('Training Accuracy:',fifth_model_train_score)\r\n",
        "print('Did the fifth model do better than the baseline on the training dataset?')\r\n",
        "if (fifth_model_baseline_training_set)>0:\r\n",
        "  print('Yes it did, by',fifth_model_baseline_training_set)\r\n",
        "else:\r\n",
        "  print('No it did worse by',fifth_model_baseline_training_set)\r\n",
        "\r\n",
        "print(\" \")\r\n",
        "fifth_model_val_score = model5_1.score(X_val, y_val)\r\n",
        "fifth_model_baseline_validation_set = fifth_model_val_score - baseline\r\n",
        "print('Validation Accuracy:',fifth_model_val_score)\r\n",
        "print('Did the fifth model do better than the baseline on the validation dataset?')\r\n",
        "if (fifth_model_baseline_validation_set)>0:\r\n",
        "  print('Yes it did, by',fifth_model_baseline_validation_set)\r\n",
        "else:\r\n",
        "  print('No it did worse by',fifth_model_baseline_validation_set)"
      ],
      "execution_count": 179,
      "outputs": [
        {
          "output_type": "stream",
          "text": [
            "Training Accuracy: 0.7557994945915952\n",
            "Did the fifth model do better than the baseline on the training dataset?\n",
            "Yes it did, by 0.004064660186386071\n",
            " \n",
            "Validation Accuracy: 0.7459077643210625\n",
            "Did the fifth model do better than the baseline on the validation dataset?\n",
            "No it did worse by -0.005827070084146624\n"
          ],
          "name": "stdout"
        }
      ]
    },
    {
      "cell_type": "code",
      "metadata": {
        "id": "mJhQUyIzpHLQ",
        "colab": {
          "base_uri": "https://localhost:8080/"
        },
        "outputId": "411f6f86-29cc-451c-c0e2-62e3cfe6bbb6"
      },
      "source": [
        "#Tune the fifth model\r\n",
        "model5_2 = make_pipeline(\r\n",
        "    ce.OrdinalEncoder(), \r\n",
        "    XGBClassifier(n_estimators=22, random_state=42, n_jobs=-1) \r\n",
        "\r\n",
        ")\r\n",
        "\r\n",
        "model5_2.fit(X_train, y_train)"
      ],
      "execution_count": 180,
      "outputs": [
        {
          "output_type": "execute_result",
          "data": {
            "text/plain": [
              "Pipeline(memory=None,\n",
              "         steps=[('ordinalencoder',\n",
              "                 OrdinalEncoder(cols=[], drop_invariant=False,\n",
              "                                handle_missing='value', handle_unknown='value',\n",
              "                                mapping=[], return_df=True, verbose=0)),\n",
              "                ('xgbclassifier',\n",
              "                 XGBClassifier(base_score=0.5, booster='gbtree',\n",
              "                               colsample_bylevel=1, colsample_bynode=1,\n",
              "                               colsample_bytree=1, gamma=0, learning_rate=0.1,\n",
              "                               max_delta_step=0, max_depth=3,\n",
              "                               min_child_weight=1, missing=None,\n",
              "                               n_estimators=22, n_jobs=-1, nthread=None,\n",
              "                               objective='binary:logistic', random_state=42,\n",
              "                               reg_alpha=0, reg_lambda=1, scale_pos_weight=1,\n",
              "                               seed=None, silent=None, subsample=1,\n",
              "                               verbosity=1))],\n",
              "         verbose=False)"
            ]
          },
          "metadata": {
            "tags": []
          },
          "execution_count": 180
        }
      ]
    },
    {
      "cell_type": "code",
      "metadata": {
        "id": "79cadu_5h0ml",
        "colab": {
          "base_uri": "https://localhost:8080/"
        },
        "outputId": "78b66333-733c-4e5c-a48b-e67968a2a059"
      },
      "source": [
        "#Evaluate the tuned fifth model\r\n",
        "fifth_model_tuned_train_score = model5_2.score(X_train, y_train)\r\n",
        "print('Training Accuracy:',fifth_model_tuned_train_score)\r\n",
        "print('Did the model improve on the Training Accuracy?')\r\n",
        "if (fifth_model_tuned_train_score - fifth_model_train_score)>0: \r\n",
        "  print('Yes it did, by', fifth_model_tuned_train_score - fifth_model_train_score) \r\n",
        "else: print('No it did worse by', fifth_model_tuned_train_score - fifth_model_train_score)\r\n",
        "\r\n",
        "print(\" \")\r\n",
        "fifth_tuned_model_baseline_training_set = fifth_model_tuned_train_score - baseline\r\n",
        "print('Did the tuned fifth model do better than the baseline on the training dataset?')\r\n",
        "if (fifth_tuned_model_baseline_training_set)>0:\r\n",
        "  print('Yes it did, by',fifth_tuned_model_baseline_training_set)\r\n",
        "else:\r\n",
        "  print('No it did worse by',fifth_tuned_model_baseline_training_set)\r\n",
        "\r\n",
        "print(\" \")\r\n",
        "fifth_model_tuned_val_score = model5_2.score(X_val, y_val)\r\n",
        "print('Validation Accuracy:',fifth_model_tuned_val_score)\r\n",
        "print('Did the model improve on the Validation Accuracy?')\r\n",
        "if (fifth_model_tuned_val_score - fifth_model_val_score)>0: \r\n",
        "  print('Yes it did, by', fifth_model_tuned_val_score - fifth_model_val_score) \r\n",
        "else: print('No it did worse by', fifth_model_tuned_val_score - fifth_model_val_score)\r\n",
        "\r\n",
        "print(\" \")\r\n",
        "fifth_tuned_model_baseline_validation_set = fifth_model_tuned_val_score - baseline\r\n",
        "print('Did the tuned fifth model do better than the baseline on the validation dataset?')\r\n",
        "if (fifth_tuned_model_baseline_validation_set)>0:\r\n",
        "  print('Yes it did, by',fifth_tuned_model_baseline_validation_set)\r\n",
        "else:\r\n",
        "  print('No it did worse by',fifth_tuned_model_baseline_validation_set)"
      ],
      "execution_count": 181,
      "outputs": [
        {
          "output_type": "stream",
          "text": [
            "Training Accuracy: 0.7517348344052092\n",
            "Did the model improve on the Training Accuracy?\n",
            "No it did worse by -0.004064660186386071\n",
            " \n",
            "Did the tuned fifth model do better than the baseline on the training dataset?\n",
            "No it did worse by 0.0\n",
            " \n",
            "Validation Accuracy: 0.7441171909146024\n",
            "Did the model improve on the Validation Accuracy?\n",
            "No it did worse by -0.0017905734064601608\n",
            " \n",
            "Did the tuned fifth model do better than the baseline on the validation dataset?\n",
            "No it did worse by -0.007617643490606785\n"
          ],
          "name": "stdout"
        }
      ]
    },
    {
      "cell_type": "code",
      "metadata": {
        "colab": {
          "base_uri": "https://localhost:8080/",
          "height": 114
        },
        "id": "77vuKxO-FOsq",
        "outputId": "b571f4b4-382c-42c0-d557-d2877a09dee0"
      },
      "source": [
        "#Evaluate the model to see if the first iteration was better than the second or vise-versa\r\n",
        "evaluate5 = {\r\n",
        "    'Model Name': ['Model 5'],\r\n",
        "    'Train 1': [fifth_model_train_score],\r\n",
        "    'Train 2': [fifth_model_tuned_train_score],\r\n",
        "    'Val 1': [fifth_model_val_score],\r\n",
        "    'Val 2': [fifth_model_tuned_val_score]\r\n",
        "}\r\n",
        "\r\n",
        "evaluate5 = pd.DataFrame.from_dict(evaluate5)\r\n",
        "\r\n",
        "evaluate5['Train Score'] = evaluate5['Train 2'] - evaluate5['Train 1']\r\n",
        "evaluate5['Val Score'] = evaluate5['Val 2'] - evaluate5['Val 1']\r\n",
        "\r\n",
        "print('Of the fifth model and the fifth tuned model, which improved the most on the baseline?')\r\n",
        "if ((evaluate5['Train Score']>0).any() | (evaluate5['Val Score']>0).any()):\r\n",
        "  evaluate5['Best Model'] = 'model5_2'\r\n",
        "  print('The fifth model is better AFTER being tuned')\r\n",
        "  fifth_model = model5_2\r\n",
        "#elif ((evaluate5['Val Score']>0).any() | (evaluate5['Train Score']<0).any()):\r\n",
        "#  evaluate5['Best Model'] = 'model5_2'\r\n",
        "#  print('The fifth model is better AFTER being tuned')\r\n",
        "#  fifth_model = model5_2\r\n",
        "else: \r\n",
        "  evaluate5['Best Model'] = 'model5_1'\r\n",
        "  fifth_model = model5_1\r\n",
        "  print('The fifth model is better BEFORE being tuned')\r\n",
        "\r\n",
        "evaluate5.head()"
      ],
      "execution_count": 182,
      "outputs": [
        {
          "output_type": "stream",
          "text": [
            "Of the fifth model and the fifth tuned model, which improved the most on the baseline?\n",
            "The fifth model is better BEFORE being tuned\n"
          ],
          "name": "stdout"
        },
        {
          "output_type": "execute_result",
          "data": {
            "text/html": [
              "<div>\n",
              "<style scoped>\n",
              "    .dataframe tbody tr th:only-of-type {\n",
              "        vertical-align: middle;\n",
              "    }\n",
              "\n",
              "    .dataframe tbody tr th {\n",
              "        vertical-align: top;\n",
              "    }\n",
              "\n",
              "    .dataframe thead th {\n",
              "        text-align: right;\n",
              "    }\n",
              "</style>\n",
              "<table border=\"1\" class=\"dataframe\">\n",
              "  <thead>\n",
              "    <tr style=\"text-align: right;\">\n",
              "      <th></th>\n",
              "      <th>Model Name</th>\n",
              "      <th>Train 1</th>\n",
              "      <th>Train 2</th>\n",
              "      <th>Val 1</th>\n",
              "      <th>Val 2</th>\n",
              "      <th>Train Score</th>\n",
              "      <th>Val Score</th>\n",
              "      <th>Best Model</th>\n",
              "    </tr>\n",
              "  </thead>\n",
              "  <tbody>\n",
              "    <tr>\n",
              "      <th>0</th>\n",
              "      <td>Model 5</td>\n",
              "      <td>0.755799</td>\n",
              "      <td>0.751735</td>\n",
              "      <td>0.745908</td>\n",
              "      <td>0.744117</td>\n",
              "      <td>-0.004065</td>\n",
              "      <td>-0.001791</td>\n",
              "      <td>model5_1</td>\n",
              "    </tr>\n",
              "  </tbody>\n",
              "</table>\n",
              "</div>"
            ],
            "text/plain": [
              "  Model Name   Train 1   Train 2  ...  Train Score  Val Score  Best Model\n",
              "0    Model 5  0.755799  0.751735  ...    -0.004065  -0.001791    model5_1\n",
              "\n",
              "[1 rows x 8 columns]"
            ]
          },
          "metadata": {
            "tags": []
          },
          "execution_count": 182
        }
      ]
    },
    {
      "cell_type": "code",
      "metadata": {
        "id": "VrJYmEgVpam3",
        "colab": {
          "base_uri": "https://localhost:8080/",
          "height": 279
        },
        "outputId": "cb409fa1-6258-4b15-b356-a438d056e94b"
      },
      "source": [
        "#Plot the Confusion Matrix for the fifth model\r\n",
        "plot_confusion_matrix(fifth_model,\r\n",
        "                      X_val, # <-- use validation data\r\n",
        "                      y_val,\r\n",
        "                      values_format='.0f',\r\n",
        "                      display_labels=['Failed Treatment','Live Birth']);"
      ],
      "execution_count": 183,
      "outputs": [
        {
          "output_type": "display_data",
          "data": {
            "image/png": "[encoded data removed]",
            "text/plain": [
              "<Figure size 432x288 with 2 Axes>"
            ]
          },
          "metadata": {
            "tags": [],
            "needs_background": "light"
          }
        }
      ]
    },
    {
      "cell_type": "code",
      "metadata": {
        "id": "yjJ74kSxj-fe"
      },
      "source": [
        "#The fifth model did not predict any live births. \r\n",
        "TruePositive5 = 0 #Predicted live birth, actual live birth\r\n",
        "TrueNegative5 = 52778 #Predicted failed treatment, actual failed treatment\r\n",
        "FalsePositive5 = 0 #Predicted live birth, but was a failed treatment\r\n",
        "FalseNegative5 = 18149 #Predicted failed treatment, but resulted in a live birth"
      ],
      "execution_count": 184,
      "outputs": []
    },
    {
      "cell_type": "code",
      "metadata": {
        "id": "bSFzmuImpdpz",
        "colab": {
          "base_uri": "https://localhost:8080/",
          "height": 295
        },
        "outputId": "36270d91-6efe-42ce-a128-9486edfdef9e"
      },
      "source": [
        "#Plot the ROC curve or Precision Recall Curve for the fifth model\r\n",
        "y_pred_proba = fifth_model.predict_proba(X_val)[:,-1]\r\n",
        "\r\n",
        "fpr, tpr, thresholds = roc_curve(y_val, y_pred_proba)\r\n",
        "\r\n",
        "# See the results in a table\r\n",
        "pd.DataFrame({\r\n",
        "    'False Positive Rate': fpr, \r\n",
        "    'True Positive Rate': tpr, \r\n",
        "    'Threshold': thresholds\r\n",
        "})\r\n",
        "plt.plot(fpr, tpr, color='blue')\r\n",
        "plt.plot((0,1), (0,1), color='red')\r\n",
        "plt.title('ROC curve')\r\n",
        "plt.xlabel('False Positive Rate')\r\n",
        "plt.ylabel('True Positive Rate');"
      ],
      "execution_count": 185,
      "outputs": [
        {
          "output_type": "display_data",
          "data": {
            "image/png": "[encoded data removed]",
            "text/plain": [
              "<Figure size 432x288 with 1 Axes>"
            ]
          },
          "metadata": {
            "tags": [],
            "needs_background": "light"
          }
        }
      ]
    },
    {
      "cell_type": "markdown",
      "metadata": {
        "id": "xVhbMm7KgsBU"
      },
      "source": [
        "# Best model"
      ]
    },
    {
      "cell_type": "code",
      "metadata": {
        "id": "OKSpFtt7tm84"
      },
      "source": [
        "accuracy = {\r\n",
        "    'Model Name': ['Model 1','Model 2','Model 3','Model 4','Model 5'],\r\n",
        "    'True Positive': [TruePositive1,TruePositive2,TruePositive3,TruePositive4,TruePositive5],\r\n",
        "    'True Negative': [TrueNegative1,TrueNegative2,TrueNegative3,TrueNegative4,TrueNegative5],\r\n",
        "    'False Positive': [FalsePositive1,FalsePositive2,FalsePositive3,FalsePositive4,FalsePositive5],\r\n",
        "    'False Negative': [FalseNegative1,FalseNegative2,FalseNegative3,FalseNegative4,FalseNegative5]\r\n",
        "}\r\n",
        "accuracy = pd.DataFrame.from_dict(accuracy)"
      ],
      "execution_count": 196,
      "outputs": []
    },
    {
      "cell_type": "code",
      "metadata": {
        "colab": {
          "base_uri": "https://localhost:8080/",
          "height": 204
        },
        "id": "G3bk6qVcv4CG",
        "outputId": "e3c3a579-12d6-4561-f4ef-9b006a2a14ec"
      },
      "source": [
        "accuracy.head()"
      ],
      "execution_count": 197,
      "outputs": [
        {
          "output_type": "execute_result",
          "data": {
            "text/html": [
              "<div>\n",
              "<style scoped>\n",
              "    .dataframe tbody tr th:only-of-type {\n",
              "        vertical-align: middle;\n",
              "    }\n",
              "\n",
              "    .dataframe tbody tr th {\n",
              "        vertical-align: top;\n",
              "    }\n",
              "\n",
              "    .dataframe thead th {\n",
              "        text-align: right;\n",
              "    }\n",
              "</style>\n",
              "<table border=\"1\" class=\"dataframe\">\n",
              "  <thead>\n",
              "    <tr style=\"text-align: right;\">\n",
              "      <th></th>\n",
              "      <th>Model Name</th>\n",
              "      <th>True Positive</th>\n",
              "      <th>True Negative</th>\n",
              "      <th>False Positive</th>\n",
              "      <th>False Negative</th>\n",
              "    </tr>\n",
              "  </thead>\n",
              "  <tbody>\n",
              "    <tr>\n",
              "      <th>0</th>\n",
              "      <td>Model 1</td>\n",
              "      <td>639</td>\n",
              "      <td>51888</td>\n",
              "      <td>890</td>\n",
              "      <td>17510</td>\n",
              "    </tr>\n",
              "    <tr>\n",
              "      <th>1</th>\n",
              "      <td>Model 2</td>\n",
              "      <td>922</td>\n",
              "      <td>51664</td>\n",
              "      <td>1114</td>\n",
              "      <td>17227</td>\n",
              "    </tr>\n",
              "    <tr>\n",
              "      <th>2</th>\n",
              "      <td>Model 3</td>\n",
              "      <td>3975</td>\n",
              "      <td>46955</td>\n",
              "      <td>5823</td>\n",
              "      <td>14174</td>\n",
              "    </tr>\n",
              "    <tr>\n",
              "      <th>3</th>\n",
              "      <td>Model 4</td>\n",
              "      <td>3891</td>\n",
              "      <td>47165</td>\n",
              "      <td>5613</td>\n",
              "      <td>14258</td>\n",
              "    </tr>\n",
              "    <tr>\n",
              "      <th>4</th>\n",
              "      <td>Model 5</td>\n",
              "      <td>0</td>\n",
              "      <td>52778</td>\n",
              "      <td>0</td>\n",
              "      <td>18149</td>\n",
              "    </tr>\n",
              "  </tbody>\n",
              "</table>\n",
              "</div>"
            ],
            "text/plain": [
              "  Model Name  True Positive  True Negative  False Positive  False Negative\n",
              "0    Model 1            639          51888             890           17510\n",
              "1    Model 2            922          51664            1114           17227\n",
              "2    Model 3           3975          46955            5823           14174\n",
              "3    Model 4           3891          47165            5613           14258\n",
              "4    Model 5              0          52778               0           18149"
            ]
          },
          "metadata": {
            "tags": []
          },
          "execution_count": 197
        }
      ]
    },
    {
      "cell_type": "code",
      "metadata": {
        "colab": {
          "base_uri": "https://localhost:8080/",
          "height": 343
        },
        "id": "9lvhYiV4LaNB",
        "outputId": "051b78f4-a269-4026-f481-e265cf5f93f1"
      },
      "source": [
        "final_evaluation = pd.concat([evaluate1,evaluate2,evaluate3,evaluate4,evaluate5], ignore_index=True)\r\n",
        "for i in final_evaluation['Best Model']:\r\n",
        "  if i.endswith('_1'):\r\n",
        "    final_evaluation['Best Model Score'] = final_evaluation['Train 1'] + final_evaluation['Val 1']\r\n",
        "  elif i.endswith('_2'):\r\n",
        "    final_evaluation['Best Model Score'] = final_evaluation['Train 2'] + final_evaluation['Val 2']\r\n",
        "final_evaluation = pd.merge(final_evaluation,accuracy)\r\n",
        "final_evaluation['Correct'] = final_evaluation['True Positive'] + final_evaluation['True Negative']\r\n",
        "final_evaluation['Incorrect'] = final_evaluation['False Positive'] + final_evaluation['False Negative']\r\n",
        "final_evaluation['Accuracy'] = final_evaluation['Correct'] - final_evaluation['Incorrect']\r\n",
        "final_evaluation.head()"
      ],
      "execution_count": 199,
      "outputs": [
        {
          "output_type": "execute_result",
          "data": {
            "text/html": [
              "<div>\n",
              "<style scoped>\n",
              "    .dataframe tbody tr th:only-of-type {\n",
              "        vertical-align: middle;\n",
              "    }\n",
              "\n",
              "    .dataframe tbody tr th {\n",
              "        vertical-align: top;\n",
              "    }\n",
              "\n",
              "    .dataframe thead th {\n",
              "        text-align: right;\n",
              "    }\n",
              "</style>\n",
              "<table border=\"1\" class=\"dataframe\">\n",
              "  <thead>\n",
              "    <tr style=\"text-align: right;\">\n",
              "      <th></th>\n",
              "      <th>Model Name</th>\n",
              "      <th>Train 1</th>\n",
              "      <th>Train 2</th>\n",
              "      <th>Val 1</th>\n",
              "      <th>Val 2</th>\n",
              "      <th>Train Score</th>\n",
              "      <th>Val Score</th>\n",
              "      <th>Best Model</th>\n",
              "      <th>Best Model Score</th>\n",
              "      <th>True Positive</th>\n",
              "      <th>True Negative</th>\n",
              "      <th>False Positive</th>\n",
              "      <th>False Negative</th>\n",
              "      <th>Correct</th>\n",
              "      <th>Incorrect</th>\n",
              "      <th>Accuracy</th>\n",
              "    </tr>\n",
              "  </thead>\n",
              "  <tbody>\n",
              "    <tr>\n",
              "      <th>0</th>\n",
              "      <td>Model 1</td>\n",
              "      <td>0.747897</td>\n",
              "      <td>0.748379</td>\n",
              "      <td>0.739140</td>\n",
              "      <td>0.740480</td>\n",
              "      <td>0.000481</td>\n",
              "      <td>0.001339</td>\n",
              "      <td>model1_2</td>\n",
              "      <td>1.487038</td>\n",
              "      <td>639</td>\n",
              "      <td>51888</td>\n",
              "      <td>890</td>\n",
              "      <td>17510</td>\n",
              "      <td>52527</td>\n",
              "      <td>18400</td>\n",
              "      <td>34127</td>\n",
              "    </tr>\n",
              "    <tr>\n",
              "      <th>1</th>\n",
              "      <td>Model 2</td>\n",
              "      <td>0.919135</td>\n",
              "      <td>0.760854</td>\n",
              "      <td>0.688060</td>\n",
              "      <td>0.741410</td>\n",
              "      <td>-0.158281</td>\n",
              "      <td>0.053351</td>\n",
              "      <td>model2_2</td>\n",
              "      <td>1.607194</td>\n",
              "      <td>922</td>\n",
              "      <td>51664</td>\n",
              "      <td>1114</td>\n",
              "      <td>17227</td>\n",
              "      <td>52586</td>\n",
              "      <td>18341</td>\n",
              "      <td>34245</td>\n",
              "    </tr>\n",
              "    <tr>\n",
              "      <th>2</th>\n",
              "      <td>Model 3</td>\n",
              "      <td>0.918907</td>\n",
              "      <td>0.919121</td>\n",
              "      <td>0.716666</td>\n",
              "      <td>0.718062</td>\n",
              "      <td>0.000214</td>\n",
              "      <td>0.001396</td>\n",
              "      <td>model3_2</td>\n",
              "      <td>1.635574</td>\n",
              "      <td>3975</td>\n",
              "      <td>46955</td>\n",
              "      <td>5823</td>\n",
              "      <td>14174</td>\n",
              "      <td>50930</td>\n",
              "      <td>19997</td>\n",
              "      <td>30933</td>\n",
              "    </tr>\n",
              "    <tr>\n",
              "      <th>3</th>\n",
              "      <td>Model 4</td>\n",
              "      <td>0.919121</td>\n",
              "      <td>0.919135</td>\n",
              "      <td>0.718062</td>\n",
              "      <td>0.719853</td>\n",
              "      <td>0.000013</td>\n",
              "      <td>0.001791</td>\n",
              "      <td>model4_2</td>\n",
              "      <td>1.637184</td>\n",
              "      <td>3891</td>\n",
              "      <td>47165</td>\n",
              "      <td>5613</td>\n",
              "      <td>14258</td>\n",
              "      <td>51056</td>\n",
              "      <td>19871</td>\n",
              "      <td>31185</td>\n",
              "    </tr>\n",
              "    <tr>\n",
              "      <th>4</th>\n",
              "      <td>Model 5</td>\n",
              "      <td>0.755799</td>\n",
              "      <td>0.751735</td>\n",
              "      <td>0.745908</td>\n",
              "      <td>0.744117</td>\n",
              "      <td>-0.004065</td>\n",
              "      <td>-0.001791</td>\n",
              "      <td>model5_1</td>\n",
              "      <td>1.501707</td>\n",
              "      <td>0</td>\n",
              "      <td>52778</td>\n",
              "      <td>0</td>\n",
              "      <td>18149</td>\n",
              "      <td>52778</td>\n",
              "      <td>18149</td>\n",
              "      <td>34629</td>\n",
              "    </tr>\n",
              "  </tbody>\n",
              "</table>\n",
              "</div>"
            ],
            "text/plain": [
              "  Model Name   Train 1   Train 2  ...  Correct  Incorrect  Accuracy\n",
              "0    Model 1  0.747897  0.748379  ...    52527      18400     34127\n",
              "1    Model 2  0.919135  0.760854  ...    52586      18341     34245\n",
              "2    Model 3  0.918907  0.919121  ...    50930      19997     30933\n",
              "3    Model 4  0.919121  0.919135  ...    51056      19871     31185\n",
              "4    Model 5  0.755799  0.751735  ...    52778      18149     34629\n",
              "\n",
              "[5 rows x 16 columns]"
            ]
          },
          "metadata": {
            "tags": []
          },
          "execution_count": 199
        }
      ]
    },
    {
      "cell_type": "code",
      "metadata": {
        "id": "eJZiCS8Y7PBF"
      },
      "source": [
        "first_model_accuracy = first_model.score(X_train, y_train) + first_model.score(X_val, y_val)\r\n",
        "\r\n",
        "second_model_accuracy = second_model.score(X_train, y_train) + second_model.score(X_val, y_val) \r\n",
        "\r\n",
        "third_model_accuracy = third_model.score(X_train, y_train) + third_model.score(X_val, y_val) \r\n",
        "\r\n",
        "fourth_model_accuracy = fourth_model.score(X_train, y_train) + fourth_model.score(X_val, y_val) \r\n",
        "\r\n",
        "fifth_model_accuracy = fifth_model.score(X_train, y_train) + fifth_model.score(X_val, y_val)\r\n",
        "\r\n",
        "all_accuracy = [first_model_accuracy,second_model_accuracy,third_model_accuracy,fourth_model_accuracy,fifth_model_accuracy]"
      ],
      "execution_count": 200,
      "outputs": []
    },
    {
      "cell_type": "code",
      "metadata": {
        "id": "_G8_jd0TgvgK",
        "colab": {
          "base_uri": "https://localhost:8080/"
        },
        "outputId": "b1562b5c-b8e2-4344-a7d6-d31af5864992"
      },
      "source": [
        "if first_model_accuracy == max(all_accuracy):\r\n",
        "  print('The first model is the best model')\r\n",
        "  final_model = first_model\r\n",
        "elif second_model_accuracy == max(all_accuracy):\r\n",
        "  print('The second model is the best model')\r\n",
        "  final_model = second_model\r\n",
        "elif third_model_accuracy == max(all_accuracy):\r\n",
        "  print('The third model is the best model')\r\n",
        "  final_model = third_model\r\n",
        "elif fourth_model_accuracy == max(all_accuracy):\r\n",
        "  print('The fourth model is the best model')\r\n",
        "  final_model = fourth_model\r\n",
        "elif fifth_model_accuracy == max(all_accuracy):\r\n",
        "  print('The fifth model is the best model')\r\n",
        "  final_model = fifth_model"
      ],
      "execution_count": 201,
      "outputs": [
        {
          "output_type": "stream",
          "text": [
            "The fourth model is the best model\n"
          ],
          "name": "stdout"
        }
      ]
    },
    {
      "cell_type": "code",
      "metadata": {
        "id": "ILmFQvang7ax",
        "colab": {
          "base_uri": "https://localhost:8080/"
        },
        "outputId": "89cc17c2-8ce5-416e-bc50-b3f0d9d98c70"
      },
      "source": [
        "#Evaluate the model against the test set \r\n",
        "print('Baseline',baseline)\r\n",
        "\r\n",
        "final_training_accuracy = final_model.score(X_train, y_train) \r\n",
        "print('Training Accuracy:',final_training_accuracy)\r\n",
        "\r\n",
        "final_validation_accuracy = final_model.score(X_val, y_val) \r\n",
        "print('Validation Accuracy:',final_validation_accuracy)\r\n",
        "\r\n",
        "#I am only using the testing dataset once. \r\n",
        "testing_accuracy = final_model.score(X_test, y_test)\r\n",
        "print('Testing Accuracy:',testing_accuracy)"
      ],
      "execution_count": 202,
      "outputs": [
        {
          "output_type": "stream",
          "text": [
            "Baseline 0.7517348344052092\n",
            "Training Accuracy: 0.9191346552392667\n",
            "Validation Accuracy: 0.7198387074033866\n",
            "Testing Accuracy: 0.7140241614767014\n"
          ],
          "name": "stdout"
        }
      ]
    },
    {
      "cell_type": "code",
      "metadata": {
        "colab": {
          "base_uri": "https://localhost:8080/",
          "height": 279
        },
        "id": "dOnpn_l9deiC",
        "outputId": "7c2b90d3-d47a-45de-dc3d-e64f257e1813"
      },
      "source": [
        "#Plot the Confusion Matrix for the fifth model\r\n",
        "plot_confusion_matrix(final_model,\r\n",
        "                      X_val, # <-- use validation data\r\n",
        "                      y_val,\r\n",
        "                      values_format='.0f',\r\n",
        "                      display_labels=['Failed Treatment','Live Birth']);"
      ],
      "execution_count": 203,
      "outputs": [
        {
          "output_type": "display_data",
          "data": {
            "image/png": "[encoded data removed]",
            "text/plain": [
              "<Figure size 432x288 with 2 Axes>"
            ]
          },
          "metadata": {
            "tags": [],
            "needs_background": "light"
          }
        }
      ]
    },
    {
      "cell_type": "code",
      "metadata": {
        "colab": {
          "base_uri": "https://localhost:8080/",
          "height": 295
        },
        "id": "h4Y9ikfqdtqt",
        "outputId": "020161d3-2834-4250-c738-8b0072f721df"
      },
      "source": [
        "#Plot the ROC curve or Precision Recall Curve for the fifth model\r\n",
        "y_pred_proba = final_model.predict_proba(X_val)[:,-1]\r\n",
        "\r\n",
        "fpr, tpr, thresholds = roc_curve(y_val, y_pred_proba)\r\n",
        "\r\n",
        "# See the results in a table\r\n",
        "pd.DataFrame({\r\n",
        "    'False Positive Rate': fpr, \r\n",
        "    'True Positive Rate': tpr, \r\n",
        "    'Threshold': thresholds\r\n",
        "})\r\n",
        "plt.plot(fpr, tpr, color='blue')\r\n",
        "plt.plot((0,1), (0,1), color='red')\r\n",
        "plt.title('ROC curve')\r\n",
        "plt.xlabel('False Positive Rate')\r\n",
        "plt.ylabel('True Positive Rate');"
      ],
      "execution_count": 204,
      "outputs": [
        {
          "output_type": "display_data",
          "data": {
            "image/png": "[encoded data removed]",
            "text/plain": [
              "<Figure size 432x288 with 1 Axes>"
            ]
          },
          "metadata": {
            "tags": [],
            "needs_background": "light"
          }
        }
      ]
    },
    {
      "cell_type": "markdown",
      "metadata": {
        "id": "4ab5mDPRijgY"
      },
      "source": [
        "# Conclusions\r\n",
        "Is this model helpful in predicting the target?\r\n",
        "\r\n",
        "No.\r\n",
        "\r\n",
        "Why not? \r\n",
        "\r\n",
        "It did not do better than the baseline on the test set and underestimated greatly the number of live births and predicted positive outcomes for patients when over 50% of those predictions were wrong. While this lines up with the basic psychology of going through fertility treatment. Most patients are hopeful even when the odds are against success I do not believe that this model meets my goal of determining whether going through IVF is worth it.\r\n",
        "\r\n",
        "With the cost of going through IVF being so high, I wanted a more accurate model."
      ]
    }
  ]
}